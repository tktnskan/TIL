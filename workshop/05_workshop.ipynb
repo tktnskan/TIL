{
 "cells": [
  {
   "cell_type": "markdown",
   "metadata": {},
   "source": [
    "### 1. 문제\n",
    "> Palindrome은 앞에서부터 읽었을때와 뒤에서부터 읽었을때 같은 단어를 뜻한다.\n",
    "따라서, 'a','nan','토마토' 모두 palindrome에 해당합니다.\n",
    "\n",
    "> 따라서, 단어를 입력받아 palindrome을 검증하고 true나 false를 리턴하는 함수 palindrome(word)를 만들어보세요"
   ]
  },
  {
   "cell_type": "code",
   "execution_count": 1,
   "metadata": {},
   "outputs": [
    {
     "data": {
      "text/plain": [
       "False"
      ]
     },
     "execution_count": 1,
     "metadata": {},
     "output_type": "execute_result"
    }
   ],
   "source": [
    "def palindrome(word):\n",
    "    if word == word[::-1]:\n",
    "        return True\n",
    "    else:\n",
    "        return False\n",
    "      \n",
    "    \n",
    "palindrome('na aaN')"
   ]
  }
 ],
 "metadata": {
  "kernelspec": {
   "display_name": "Python 3",
   "language": "python",
   "name": "python3"
  },
  "language_info": {
   "codemirror_mode": {
    "name": "ipython",
    "version": 3
   },
   "file_extension": ".py",
   "mimetype": "text/x-python",
   "name": "python",
   "nbconvert_exporter": "python",
   "pygments_lexer": "ipython3",
   "version": "3.6.7"
  }
 },
 "nbformat": 4,
 "nbformat_minor": 2
}
