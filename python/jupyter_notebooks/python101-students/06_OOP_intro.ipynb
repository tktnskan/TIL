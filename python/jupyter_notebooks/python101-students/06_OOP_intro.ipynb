{
 "cells": [
  {
   "cell_type": "markdown",
   "metadata": {},
   "source": [
    "# 시작하기전에\n",
    "\n",
    "<wikipedia - 객체지향 프로그래밍> \n",
    ">\n",
    "> 객체 지향 프로그래밍(영어: Object-Oriented Programming, OOP)은 컴퓨터 프로그래밍의 패러다임의 하나이다. 객체 지향 프로그래밍은 컴퓨터 프로그램을 명령어의 목록으로 보는 시각에서 벗어나 여러 개의 독립된 단위, 즉 \"객체\"들의 모임으로 파악하고자 하는 것이다. 각각의 객체는 메시지를 주고받고, 데이터를 처리할 수 있다.\n",
    ">\n",
    "> 명령형 프로그래밍인 절차지향 프로그래밍에서 발전된 형태를 나타내며, 기본 구성요소는 다음과 같다.\n",
    "\n",
    "* 클래스(Class) - 같은 종류(또는 문제 해결을 위한)의 집단에 속하는 속성(attribute)과 행위(behavior)를 정의한 것으로 객체지향 프로그램의 기본적인 사용자 정의 데이터형(user define data type)이라고 할 수 있다. 클래스는 프로그래머가 아니지만 해결해야 할 문제가 속하는 영역에 종사하는 사람이라면 사용할 수 있고, 다른 클래스 또는 외부 요소와 독립적으로 디자인하여야 한다.\n",
    "\n",
    "\n",
    "* 인스턴스 - 클래스의 인스턴스(실제로 메모리상에 할당된 것)이다. 객체는 자신 고유의 속성(attribute)을 가지며 클래스에서 정의한 행위(behavior)를 수행할 수 있다. 객체의 행위는 클래스에 정의된 행위에 대한 정의를 공유함으로써 메모리를 경제적으로 사용한다.\n",
    "\n",
    "\n",
    "* 메서드(Method) - 클래스로부터 생성된 객체를 사용하는 방법으로서 객체에 명령을 내리는 것이라 할 수 있다. 메서드는 한 객체의 속성을 조작하는 데 사용된다."
   ]
  },
  {
   "cell_type": "code",
   "execution_count": null,
   "metadata": {},
   "outputs": [],
   "source": [
    "# 복소수를 하나 만들어보고, 타입을 출력해봅시다.\n",
    "\n",
    "img_number = 3 + 4j\n",
    "print(img_number ** 2)"
   ]
  },
  {
   "cell_type": "markdown",
   "metadata": {},
   "source": [
    "| list   | dict                        | int      | set             | str            |\n",
    "| ------ | --------------------------- | -------- | --------------- | -------------- |\n",
    "| 백지원 | {a: 1}                      | 49       | {1, 2}          | 'hi'           |\n",
    "| 이원진 | {}                          | 0        | 0               | ''             |\n",
    "| 고재두 | {b:2, c: 2, d:{ 1:2, 3:4 }} | 10000000 | {1,2,3,4,5,6,7} | \"pneumonultra\" |\n"
   ]
  },
  {
   "cell_type": "code",
   "execution_count": null,
   "metadata": {},
   "outputs": [],
   "source": [
    "# 허수부랑 실수부를 함께 출력해봅시다.\n",
    "print(img_number.real)\n",
    "print(img_number.imag)"
   ]
  },
  {
   "cell_type": "code",
   "execution_count": null,
   "metadata": {},
   "outputs": [],
   "source": [
    "# 리스트를 하나 만들고 정렬해봅시다.\n",
    "a = [3, 2, 1]\n",
    "a.sort()\n",
    "print(a.sort)\n",
    "print(a)"
   ]
  },
  {
   "cell_type": "code",
   "execution_count": null,
   "metadata": {},
   "outputs": [],
   "source": [
    "# list class의 object들이 (리스트가) 할 수 있는 것들을 알아봅시다.\n",
    "\n",
    "print(dir(list))"
   ]
  },
  {
   "cell_type": "markdown",
   "metadata": {},
   "source": [
    "## 실습 문제\n",
    "\n",
    "> 프로그래밍으로 나와 친구의 이름을 저장해보세요.\n",
    ">\n",
    "\n",
    "**각자의 명함과 지갑을 만들어봅시다.**\n",
    "\n",
    "* 내 생일, 전화번호, 이메일주소 정보를 담은 변수를 확인해봅시다.\n",
    "\n",
    "* 주머니(pocket)에는 돈(won)을 포함하여 현재 가지고 있는 것을 작성해보세요.\n",
    "\n",
    "* 나는 인사를 하면서 내 명함에 있는 정보 하나를 이야기합니다. `greeting` 함수를 만듭시다.\n",
    "\n",
    "* 나는 주머니에 원하는 것과 갯수를 지정하여 넣을 수 있습니다. \n",
    "\n",
    "  기존에 값이 있으면, 갯수를 추가하고 없으면 새로 만드는 `in_my_pocket` 함수를 만듭시다.\n",
    "  \n",
    "**친구의 정보와 지갑도 만들어봅시다.**"
   ]
  },
  {
   "cell_type": "code",
   "execution_count": null,
   "metadata": {
    "scrolled": true
   },
   "outputs": [],
   "source": [
    "\n",
    "student_list = {\n",
    "    'student1' : {\n",
    "    'name': '윤지녕',\n",
    "    'phone': '01023592054',\n",
    "    'email': 'jny4594@gmail.com'\n",
    "    },\n",
    "    'student2' : {\n",
    "    'name': '박준태',\n",
    "    'phone': '01034717984',\n",
    "    'email': 'crossmarien@naver.com'  \n",
    "    },\n",
    "    'student' : {\n",
    "    'name': '안도건',\n",
    "    'phone': '01035651509',\n",
    "    'email': 'qltlqltl@gmail.com'  \n",
    "    }\n",
    "}\n",
    "\n",
    "\n",
    "def arrive(mate):\n",
    "    if mate['name'] == '윤지녕':\n",
    "        print('화장실에 간다')\n",
    "        print('출석을 찍는다')\n",
    "        print('물을 뜬다')\n",
    "        \n",
    "arrive(my_info)\n",
    "\n",
    "\n",
    "# my_pocket = {\n",
    "#     'money': 1000000,\n",
    "#     'candy': 3\n",
    "# }\n",
    "\n",
    "# def greeting(info):\n",
    "#     for key,value in info.items():\n",
    "#         print(f'my {key} is {value}')\n",
    "\n",
    "# greeting(my_info)\n",
    "          \n",
    "# def in_my_pocket(pocket, stuff, count):\n",
    "#           if pocket.get(stuff):\n",
    "#               pocket[stuff] += count\n",
    "#           else:\n",
    "#               pocket[stuff] = count\n",
    "#           return pocket\n",
    "    \n",
    "# print(in_my_pocket(my_pocket, 'cigar', 1))\n",
    "          "
   ]
  },
  {
   "cell_type": "code",
   "execution_count": 80,
   "metadata": {},
   "outputs": [
    {
     "name": "stdout",
     "output_type": "stream",
     "text": [
      "윤지녕 0 0\n",
      "윤지녕은 도착하면 물뜨기를 합니다.\n",
      "안도건은 도착하면 세수를 합니다.\n",
      "3 703\n",
      "안녕하세요! 제 이름은 윤지녕입니다\n",
      "제 전화번호는 0이고, 이메일은 0 입니다.\n"
     ]
    }
   ],
   "source": [
    "class Mate:\n",
    "    classroom = 703\n",
    "    ban = 3\n",
    "    def __init__(a, name, phone, email, arrive):\n",
    "        a.name = name\n",
    "        a.phone = phone\n",
    "        a.email = email\n",
    "        a.arrive = arrive\n",
    "        \n",
    "#     def set_info(self, name, phone, email, arrive):\n",
    "#         self.name = name\n",
    "#         self.phone = phone\n",
    "#         self.email = email\n",
    "#         self.arrive = arrive\n",
    "    def intro(a):\n",
    "        print(f'안녕하세요! 제 이름은 {a.name}입니다')\n",
    "        print(f'제 전화번호는 {a.phone}이고, 이메일은 {a.email} 입니다.')\n",
    "    \n",
    "    \n",
    "    def get_info(a):\n",
    "        print(a.name, a.phone, a.email)\n",
    "    \n",
    "    def dochak(a):\n",
    "        print(f'{a.name}은 도착하면 {a.arrive}를 합니다.')\n",
    "        \n",
    "student1 = Mate('윤지녕', '0', '0', '물뜨기')\n",
    "student2 = Mate('안도건', '0', '0', '세수')\n",
    "# student1.set_info('윤지녕', '01023592054', 'jny4594@gmail.com', '화장실')\n",
    "student1.get_info()\n",
    "student1.dochak()\n",
    "student2.dochak()\n",
    "print(student1.ban, student1.classroom)\n",
    "student1.intro()"
   ]
  },
  {
   "cell_type": "code",
   "execution_count": 21,
   "metadata": {},
   "outputs": [
    {
     "name": "stdout",
     "output_type": "stream",
     "text": [
      "A santa at NASA\n",
      "True\n",
      "한글자만 넣어라: aa\n",
      "ㅋㅋㅋㅋㅋ\n",
      "한글자만 넣어라: aa\n",
      "ㅋㅋㅋㅋㅋ\n"
     ]
    },
    {
     "data": {
      "text/plain": [
       "False"
      ]
     },
     "execution_count": 21,
     "metadata": {},
     "output_type": "execute_result"
    }
   ],
   "source": [
    "class Text:\n",
    "    def __init__(self, content):\n",
    "        self.content = content\n",
    "        \n",
    "    def is_palindrome(self):\n",
    "        txt = self.content.replace(' ','').lower()\n",
    "        return txt == ''.join(reversed(txt))\n",
    "    \n",
    "    def start_hangman(self):\n",
    "        guess = input('한글자만 넣어라: ')\n",
    "        if guess in self.content:\n",
    "            print('오 맞음!')\n",
    "            return True\n",
    "        else:\n",
    "            print('ㅋㅋㅋㅋㅋ')\n",
    "            return False\n",
    "\n",
    "    \n",
    "my_text = Text('A santa at NASA')\n",
    "print(my_text.content)\n",
    "\n",
    "print(my_text.is_palindrome())  # True\n",
    "\n",
    "your_text = Text('apple')\n",
    "your_text.start_hangman()\n",
    "Text('apple').start_hangman()\n",
    "\n",
    "# def List:\n",
    "#     def append(self, e):\n",
    "#         self += [e]\n",
    "        \n",
    "#     def sort(self):\n",
    "#         self = self.reversed()\n",
    "    \n",
    "#     def count(self, e):\n",
    "#         # some logic to count e\n",
    "#         return cnt\n",
    "    "
   ]
  },
  {
   "cell_type": "code",
   "execution_count": null,
   "metadata": {},
   "outputs": [],
   "source": [
    "# in_my_pocket 함수를 통해 내 주머니에 내용을 추가해봅시다.\n",
    "class className:\n",
    "    def "
   ]
  },
  {
   "cell_type": "code",
   "execution_count": null,
   "metadata": {},
   "outputs": [],
   "source": [
    "# greeting 함수를 통해 인사를 해봅시다.\n",
    "#=> 안녕, kim이야. 01012345678"
   ]
  },
  {
   "cell_type": "markdown",
   "metadata": {},
   "source": [
    "# 클래스 및 인스턴스"
   ]
  },
  {
   "cell_type": "markdown",
   "metadata": {},
   "source": [
    "## 클래스 객체\n",
    "\n",
    "```python\n",
    "class ClassName:\n",
    "    \n",
    "```\n",
    "\n",
    "* 선언과 동시에 클래스 객체가 생성됨.\n",
    "\n",
    "* 또한, 선언된 공간은 지역 스코프로 사용된다.\n",
    "\n",
    "* 정의된 어트리뷰트 중 변수는 멤버 변수로 불리운다.\n",
    "\n",
    "* 정의된 함수(`def`)는 메서드로 불리운다."
   ]
  },
  {
   "cell_type": "code",
   "execution_count": 24,
   "metadata": {},
   "outputs": [
    {
     "name": "stdout",
     "output_type": "stream",
     "text": [
      "<class 'type'>\n",
      "<class '__main__.TestClass'>\n",
      "Test Class\n"
     ]
    }
   ],
   "source": [
    "# Class를 만들어봅시다.\n",
    "class TestClass:    #upper camel case\n",
    "    \"\"\"Test Class\"\"\"\n",
    "\n",
    "print(type(TestClass))    \n",
    "tc = TestClass()\n",
    "print(type(tc))\n",
    "print(tc.__doc__)"
   ]
  },
  {
   "cell_type": "code",
   "execution_count": 54,
   "metadata": {},
   "outputs": [
    {
     "name": "stdout",
     "output_type": "stream",
     "text": [
      "Hello!\n"
     ]
    }
   ],
   "source": [
    "# Person 클래스를 만들어봅시다.\n",
    "\n",
    "class Person:\n",
    "    name = 'Yoonjinyung'\n",
    "    \n",
    "    def say_hi(self):\n",
    "        print('Hello!')\n",
    "        \n",
    "    def intro(self):\n",
    "        print(f'I am {self.name}')\n",
    "        \n",
    "p = Person()\n",
    "p.say_hi()"
   ]
  },
  {
   "cell_type": "markdown",
   "metadata": {},
   "source": [
    "* 선언시 self는 반드시 작성해주세요! 나중에 설명드립니다."
   ]
  },
  {
   "cell_type": "markdown",
   "metadata": {},
   "source": [
    "## 인스턴스 객체\n",
    "\n",
    "* 인스턴스 객체는 `ClassName()`을 호출함으로써 선언된다.\n",
    "\n",
    "* 인스턴스 객체와 클래스 객체는 서로 다른 이름 공간을 가지고 있다.\n",
    "\n",
    "* 인스턴스 -> 클래스 -> 전역 순으로 탐색을 한다."
   ]
  },
  {
   "cell_type": "code",
   "execution_count": 55,
   "metadata": {},
   "outputs": [],
   "source": [
    "# 클래스 Person의 인스턴스를 'iu' 만들어봅시다. \n",
    "iu = Person()\n"
   ]
  },
  {
   "cell_type": "code",
   "execution_count": 56,
   "metadata": {},
   "outputs": [
    {
     "name": "stdout",
     "output_type": "stream",
     "text": [
      "Hello!\n"
     ]
    }
   ],
   "source": [
    "# 인사하는 메서드를 호출해봅시다.\n",
    "iu.say_hi()"
   ]
  },
  {
   "cell_type": "code",
   "execution_count": 57,
   "metadata": {},
   "outputs": [
    {
     "data": {
      "text/plain": [
       "'Yoonjinyung'"
      ]
     },
     "execution_count": 57,
     "metadata": {},
     "output_type": "execute_result"
    }
   ],
   "source": [
    "# iu의 이름을 확인해봅시다.\n",
    "iu.name"
   ]
  },
  {
   "cell_type": "code",
   "execution_count": 58,
   "metadata": {},
   "outputs": [
    {
     "name": "stdout",
     "output_type": "stream",
     "text": [
      "IU\n"
     ]
    },
    {
     "data": {
      "text/plain": [
       "'IU'"
      ]
     },
     "execution_count": 58,
     "metadata": {},
     "output_type": "execute_result"
    }
   ],
   "source": [
    "# iu로 이름을 바꿔주세요.\n",
    "iu.name = 'IU'\n",
    "print(iu.name)\n",
    "iu.name"
   ]
  },
  {
   "cell_type": "code",
   "execution_count": 59,
   "metadata": {},
   "outputs": [
    {
     "name": "stdout",
     "output_type": "stream",
     "text": [
      "I am IU\n"
     ]
    }
   ],
   "source": [
    "# iu가 인사를 합니다.\n",
    "iu.intro()"
   ]
  },
  {
   "cell_type": "code",
   "execution_count": 63,
   "metadata": {},
   "outputs": [
    {
     "data": {
      "text/plain": [
       "False"
      ]
     },
     "execution_count": 63,
     "metadata": {},
     "output_type": "execute_result"
    }
   ],
   "source": [
    "# iu와 Person이 같은지 확인해보겠습니다.\n",
    "\n",
    "isinstance(iu, Person)\n",
    "\n",
    "isinstance('a', int)\n",
    "\n",
    "# if isinstance(user_input, str):\n",
    "#     ~~~~~"
   ]
  },
  {
   "cell_type": "code",
   "execution_count": 66,
   "metadata": {},
   "outputs": [
    {
     "data": {
      "text/plain": [
       "True"
      ]
     },
     "execution_count": 66,
     "metadata": {},
     "output_type": "execute_result"
    }
   ],
   "source": [
    "# iu와 Person이 같은지 확인해보겠습니다.\n",
    "\n",
    "type(iu) == Person\n",
    "type('a') == str"
   ]
  },
  {
   "cell_type": "code",
   "execution_count": 67,
   "metadata": {},
   "outputs": [
    {
     "name": "stdout",
     "output_type": "stream",
     "text": [
      "<__main__.Person object at 0x0000028A73CD7F28>\n"
     ]
    }
   ],
   "source": [
    "# iu를 출력해봅시다.\n",
    "print(iu)"
   ]
  },
  {
   "cell_type": "code",
   "execution_count": 68,
   "metadata": {},
   "outputs": [
    {
     "data": {
      "text/plain": [
       "<__main__.Person at 0x28a73cd7f28>"
      ]
     },
     "execution_count": 68,
     "metadata": {},
     "output_type": "execute_result"
    }
   ],
   "source": [
    "# iu를 출력해봅시다 2.\n",
    "iu"
   ]
  },
  {
   "cell_type": "code",
   "execution_count": 69,
   "metadata": {},
   "outputs": [
    {
     "data": {
      "text/plain": [
       "__main__.Person"
      ]
     },
     "execution_count": 69,
     "metadata": {},
     "output_type": "execute_result"
    }
   ],
   "source": [
    "# type을 확인해봅시다.\n",
    "type(iu)"
   ]
  },
  {
   "cell_type": "markdown",
   "metadata": {},
   "source": [
    "* 파이썬 출력의 비밀 : repr, str"
   ]
  },
  {
   "cell_type": "code",
   "execution_count": null,
   "metadata": {},
   "outputs": [],
   "source": []
  },
  {
   "cell_type": "code",
   "execution_count": 72,
   "metadata": {},
   "outputs": [],
   "source": [
    "# 강다니엘을 만들어봅시다.\n",
    "d_kang = Person()\n"
   ]
  },
  {
   "cell_type": "code",
   "execution_count": 74,
   "metadata": {},
   "outputs": [
    {
     "name": "stdout",
     "output_type": "stream",
     "text": [
      "Daniel Kang\n"
     ]
    }
   ],
   "source": [
    "# 강다니엘을 출력해봅시다.\n",
    "d_kang.name = 'Daniel Kang'\n",
    "print(d_kang.name)"
   ]
  },
  {
   "cell_type": "markdown",
   "metadata": {},
   "source": [
    "## 실습 문제 발전\n",
    "\n",
    "> 지금까지 배운 것을 통해서 Person 클래스를 만들고, 친구와 나를 표현해봅시다.\n",
    ">\n",
    "> 주머니와 정보를 가지고 있고 (멤버 변수)\n",
    "> \n",
    "> 인사(`greeting()`)와 주머니에 내용을 추가(`in_my_pocket()`)할 수 있습니다. (메서드)\n",
    ">\n",
    "> 추가적으로 `get_my_pocket()`으로 지갑에 담긴 정보를 가져와 봅시다.\n",
    ">\n",
    "> 그리고 사람을 출력하면, 지갑을 제외한 정보를 보여줘보세요. "
   ]
  },
  {
   "cell_type": "code",
   "execution_count": null,
   "metadata": {},
   "outputs": [],
   "source": [
    "# 아래에 코드를 작성해주세요.    "
   ]
  },
  {
   "cell_type": "markdown",
   "metadata": {},
   "source": [
    "## MyList만들기\n",
    "\n",
    "> 이제 배운 것을 활용하여 나만의 리스트 객체를 만들 수 있습니다. \n",
    ">\n",
    "> `class MyList:`\n",
    ">\n",
    "\n",
    "```\n",
    "* 변수\n",
    "data : 비어 있는 리스트\n",
    "\n",
    "* 메서드 \n",
    "append : 값을 받아 추가합니다.\n",
    "pop : 마지막에 있는 값을 없애고, 해당 값을 리턴합니다.\n",
    "reverse : 제자리에서 뒤집고 리턴 값은 없습니다.\n",
    "count(x) : x의 갯수를 반환합니다.\n",
    "clear : 값을 모두 삭제합니다.\n",
    "\n",
    "__repr__ : ex) '리스트 내용 1, 2, 3'\n",
    "```"
   ]
  },
  {
   "cell_type": "code",
   "execution_count": null,
   "metadata": {},
   "outputs": [],
   "source": [
    "# 아래에 코드를 작성해주세요."
   ]
  },
  {
   "cell_type": "markdown",
   "metadata": {},
   "source": [
    "## 자유롭게 만들어보기\n",
    "\n",
    "> 이 세상에 있는 무엇인가를 자유롭게 표현해주세요."
   ]
  },
  {
   "cell_type": "code",
   "execution_count": 89,
   "metadata": {},
   "outputs": [
    {
     "name": "stdout",
     "output_type": "stream",
     "text": [
      "80\n"
     ]
    }
   ],
   "source": [
    "# 아래에 코드를 작성해주세요.\n",
    "\n",
    "class Pokemon:\n",
    "    def __init__(self, name, level):\n",
    "        self.name = name\n",
    "        self.level = level\n",
    "        self.hp = level * 10\n",
    "        \n",
    "    def set_hp(self, point):\n",
    "        self.hp += point\n",
    "    \n",
    "    def check_status(self):\n",
    "        if self.hp > 0:\n",
    "            return True\n",
    "        else:\n",
    "            return False\n",
    "        \n",
    "        \n",
    "class piakchu(Pokemon):\n",
    "    type = ('elec')\n",
    "    def body_attack(self, enemy):\n",
    "        enemy.set_hp(-self.level*1)\n",
    "    \n",
    "    def volt_attack(self, enemy):\n",
    "        if 'fire' in enemy.type:\n",
    "            enemy.set_hp(-self.level*1.5)\n",
    "        else:\n",
    "            enemy.set_hp(-self.level*1.05)\n",
    "            \n",
    "    def attack(self, enemy):\n",
    "        c = random.choice([1,2])\n",
    "        if c == 1:\n",
    "            body_attack(enemy)\n",
    "\n",
    "class pairi(Pokemon):\n",
    "    type = ('water')\n",
    "    \n",
    "    def body_attack(self, enemy):\n",
    "        enemy.set_hp(-self.level*1)\n",
    "    \n",
    "    def volt_attack(self, enemy):\n",
    "        \n",
    "        \n",
    "a = Pokemon('pikachu', 10)\n",
    "b = Pokemon('pairi', 9)\n",
    "\n",
    "def battle(p1, p2):\n",
    "    import random\n",
    "    #선공 후공 결정\n",
    "    \n",
    "\n",
    "\n",
    "import random\n",
    "\n",
    "while a.check_status and b.check_status:\n",
    "    \n",
    "#     if a.check_status():\n",
    "#         a.body_attack(b)\n",
    "#         print(b.hp)\n",
    "#     else:\n",
    "#         print(f'{b.name}의 승리!')"
   ]
  },
  {
   "cell_type": "code",
   "execution_count": null,
   "metadata": {},
   "outputs": [],
   "source": [
    "# 아래에 코드를 작성해주세요.\n",
    "class Pokemon:\n",
    "    def __init__(self, level):\n",
    "        self.level = level\n",
    "        self.hp = self.level * 10\n",
    "        \n",
    "    def set_hp(self, point):\n",
    "        self.hp += point\n",
    "        \n",
    "    def check_status(self):\n",
    "        if self.hp > 0:\n",
    "            return True\n",
    "        else: \n",
    "            return False\n",
    "        \n",
    "    def print_status(self):\n",
    "        print(f'{self.name} 의 체력: {self.hp}')"
   ]
  },
  {
   "cell_type": "code",
   "execution_count": null,
   "metadata": {},
   "outputs": [],
   "source": [
    "import random\n",
    "class Pikachu(Pokemon):\n",
    "    # Pokemon 클래스 상속으로 다 물려받음!\n",
    "    # def __init__(self, name, level):\n",
    "    #     self.name = name\n",
    "    #     self.level = level\n",
    "    #     self.hp = level * 10\n",
    "        \n",
    "    # def set_hp(self, point):\n",
    "    #     self.hp += point\n",
    "        \n",
    "    # def check_status(self):\n",
    "    #     if self.hp > 0:\n",
    "    #         return True\n",
    "    #     else: \n",
    "    #         return False\n",
    "        \n",
    "    name = '피카츄'\n",
    "    types = ('elec')\n",
    "    def body_attack(self, enemy):\n",
    "        enemy.set_hp(-1 * self.level)\n",
    "        \n",
    "    def thousand_volt(self, enemy):\n",
    "        if 'water' in enemy.types:\n",
    "            enemy.set_hp(-1.3 * self.level)\n",
    "            print('효과는 굉장했다!')\n",
    "        else:\n",
    "            enemy.set_hp(-1.05 * self.level)\n",
    "            \n",
    "    def attack(self, enemy):\n",
    "        c = random.choice([1, 2])\n",
    "        if c == 1:\n",
    "            self.body_attack(enemy)\n",
    "        else:\n",
    "            self.thousand_volt(enemy)\n",
    "            \n",
    "class Squirtle(Pokemon):\n",
    "    name = '꼬부기'\n",
    "    types = ('water')\n",
    "    def body_attack(self, enemy):\n",
    "        enemy.set_hp(-0.98 * self.level)\n",
    "    \n",
    "    def water_attack(self, enemy):\n",
    "        enemy.set_hp(-1.08 * self.level)\n",
    "    \n",
    "    def attack(self, enemy):\n",
    "        c = random.choice([1, 2])\n",
    "        if c == 1:\n",
    "            self.body_attack(enemy)\n",
    "        else:\n",
    "            self.water_attack(enemy)"
   ]
  },
  {
   "cell_type": "code",
   "execution_count": null,
   "metadata": {},
   "outputs": [],
   "source": [
    "a = Pikachu(10)\n",
    "b = Squirtle(10)\n",
    "\n",
    "def battle(p1, p2):\n",
    "    import random\n",
    "    # 선공 후공 결정\n",
    "    vs = [p1, p2]\n",
    "    random.shuffle(vs)\n",
    "    winner = 0\n",
    "    prev, after = tuple(vs)\n",
    "    while prev.check_status() and after.check_status():\n",
    "        if prev.check_status:\n",
    "            prev.attack(after)\n",
    "            prev.print_status()\n",
    "        else:\n",
    "            winner = after\n",
    "            break\n",
    "        if after.check_status():\n",
    "            after.attack(prev)\n",
    "            after.print_status()\n",
    "        else:\n",
    "            winner = prev\n",
    "            break\n",
    "            \n",
    "    print(f'{winner.name} 의 승리!')\n",
    "    \n",
    "battle(Pikachu(20), Squirtle(21))"
   ]
  },
  {
   "cell_type": "code",
   "execution_count": null,
   "metadata": {},
   "outputs": [],
   "source": [
    "\n",
    "a = random.shuffle([a, b])\n",
    "a"
   ]
  },
  {
   "cell_type": "code",
   "execution_count": 6,
   "metadata": {},
   "outputs": [
    {
     "name": "stdout",
     "output_type": "stream",
     "text": [
      "x좌표: 2\n",
      "y좌표: 4\n",
      "반지름: 3\n",
      "x,y 좌표가 (2, 4)인 원은 넓이가 28.26이고, 둘레는 18.84 이다\n"
     ]
    }
   ],
   "source": [
    "# 07workshop\n",
    "\n",
    "class Circle():\n",
    "    \n",
    "    pi = 3.14\n",
    "    x = 0\n",
    "    y = 0\n",
    "    r = 0\n",
    "    \n",
    "#     def __init__(self, pi, x, y, r):\n",
    "#         self.pi = pi\n",
    "#         self.x = x\n",
    "#         self.y = y\n",
    "#         self.r = r\n",
    "\n",
    "    def area(self):\n",
    "        return self.pi * self.r * self.r\n",
    "    \n",
    "    def circumstance(self):\n",
    "        return 2 * self.pi * self.r\n",
    "    \n",
    "    def center(self):\n",
    "        return (self.x, self.y)\n",
    "    \n",
    "    def move(self, x, y, r):\n",
    "        self.x = x\n",
    "        self.y = y\n",
    "        self.r = r\n",
    "\n",
    "a = Circle()\n",
    "a.move(int(input('x좌표: ')),int(input('y좌표: ')),int(input('반지름: ')))\n",
    "print(f'x,y 좌표가 {a.center()}인 원은 넓이가 {round(a.area(),2)}이고, 둘레는 {a.circumstance()} 이다')\n",
    "\n",
    "\n",
    "        \n",
    "        \n",
    "    "
   ]
  },
  {
   "cell_type": "code",
   "execution_count": 18,
   "metadata": {},
   "outputs": [
    {
     "name": "stdout",
     "output_type": "stream",
     "text": [
      "<class 'str'>\n",
      "<class 'int'>\n",
      "<class 'float'>\n",
      "<class 'list'>\n",
      "<class 'tuple'>\n",
      "안녕하세요! 홍길동입니다. 20살입니다.\n",
      "안녕하세요! 둘리입니다. 0살입니다.\n"
     ]
    }
   ],
   "source": [
    "# 07homework\n",
    "\n",
    "# 1. 파이썬에서은 객체지향프로그래밍 언어입니다. 파이썬에서 기본적으로 정의된 클래스 5개만 작성해보세요.\n",
    "\n",
    "print(str)\n",
    "print(int)\n",
    "print(float)\n",
    "print(list)\n",
    "print(tuple)\n",
    "\n",
    "\n",
    "# 2. 다음 중 틀린 것은?\n",
    "# (1) 클래스 내에 정의된 멤버 함수는 ‘메서드(method)’라고 부른다. \n",
    "# (2) 클래스는 선언과 동시에 클래스 객체가 생성되며, 인스턴스 객체를 만들면 클래스에서 선언된 메서드를 활용할 수 있다. \n",
    "# (3) isinstance(인스턴스 객체, 클래스 객체)를 활용하면 상속 관계까지 확인 가능하다. \n",
    "# (4) 생성자는 인스턴트 객체가 생성될 때 자동으로 호출된다.\n",
    "# (5) 숫자 5는 그냥 숫자일 뿐 클래스가 없다.\n",
    "\n",
    "#  답 5번\n",
    "\n",
    "# 3. Person 클래스를 정의하고, 이름이 ‘홍길동’, \n",
    "#나이가 20인 p1 인스턴스 객체를 만들어보세요. 이름이 ‘둘리’, 나이가 0인 p2 인스턴스 객체를 만들어보세요.\n",
    "#인스턴스 속성 : name, age 메서드 : greeting()\n",
    "#인스턴스 생성시 이름과 나이를 받으며, 나이가 없는 경우 0으로 설정한다. greeting이 호출되면, 아래와 같이 문자열을 반환한다.\n",
    "\n",
    "class Person:\n",
    "    \n",
    "    def __init__(self, name, age=0):\n",
    "        self.name = name\n",
    "        self.age = age\n",
    "        \n",
    "\n",
    "    def greeting(self):\n",
    "        print(f'안녕하세요! {self.name}입니다. {self.age}살입니다.')\n",
    "\n",
    "      \n",
    "p1 = Person('홍길동', 20)\n",
    "p1.greeting()\n",
    "p2 = Person('둘리')\n",
    "p2.greeting()"
   ]
  }
 ],
 "metadata": {
  "kernelspec": {
   "display_name": "Python 3",
   "language": "python",
   "name": "python3"
  },
  "language_info": {
   "codemirror_mode": {
    "name": "ipython",
    "version": 3
   },
   "file_extension": ".py",
   "mimetype": "text/x-python",
   "name": "python",
   "nbconvert_exporter": "python",
   "pygments_lexer": "ipython3",
   "version": "3.6.7"
  },
  "latex_envs": {
   "LaTeX_envs_menu_present": true,
   "autoclose": false,
   "autocomplete": true,
   "bibliofile": "biblio.bib",
   "cite_by": "apalike",
   "current_citInitial": 1,
   "eqLabelWithNumbers": true,
   "eqNumInitial": 1,
   "hotkeys": {
    "equation": "Ctrl-E",
    "itemize": "Ctrl-I"
   },
   "labels_anchors": false,
   "latex_user_defs": false,
   "report_style_numbering": false,
   "user_envs_cfg": false
  },
  "toc": {
   "base_numbering": 1,
   "nav_menu": {},
   "number_sections": true,
   "sideBar": true,
   "skip_h1_title": false,
   "title_cell": "Table of Contents",
   "title_sidebar": "Contents",
   "toc_cell": false,
   "toc_position": {},
   "toc_section_display": true,
   "toc_window_display": false
  }
 },
 "nbformat": 4,
 "nbformat_minor": 2
}
