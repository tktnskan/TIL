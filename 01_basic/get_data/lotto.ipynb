{
 "cells": [
  {
   "cell_type": "code",
   "execution_count": 5,
   "metadata": {},
   "outputs": [],
   "source": [
    "# 주간 박스오피스\n",
    "# https://www.kobis.or.kr/kobisopenapi/webservice/rest/boxoffice/searchDailyBoxOfficeList.json?key=087ca6a1490cb65922d848fe9ea7121b&targetDt=20190113\n",
    "\n",
    "# 영화 상세정보\n",
    "# http://www.kobis.or.kr/kobisopenapi/webservice/soap/movie/searchMovieInfo.json\n",
    "# ?\n",
    "# key=\n",
    "# &\n",
    "# movieCd=20185485\n",
    "# 087ca6a1490cb65922d848fe9ea7121b\n",
    "\n",
    "'''\n",
    "https://www.dhlottery.co.kr/common.do?method=getLottoNumber&drwNo=837\n",
    "'''\n",
    "\n",
    "import requests\n",
    "\n",
    "url = 'https://www.dhlottery.co.kr/common.do?method=getLottoNumber&drwNo=837'\n",
    "got = requests.get(url)\n",
    "data = got.json()"
   ]
  },
  {
   "cell_type": "code",
   "execution_count": 14,
   "metadata": {},
   "outputs": [
    {
     "name": "stdout",
     "output_type": "stream",
     "text": [
      "{'totSellamnt': 76614176000, 'returnValue': 'success', 'drwNoDate': '2018-12-15', 'firstWinamnt': 3144449125, 'drwtNo6': 45, 'drwtNo4': 30, 'firstPrzwnerCo': 6, 'drwtNo5': 33, 'bnusNo': 6, 'firstAccumamnt': 18866694750, 'drwNo': 837, 'drwtNo2': 25, 'drwtNo3': 28, 'drwtNo1': 2}\n"
     ]
    },
    {
     "data": {
      "text/plain": [
       "[45, 30, 33, 25, 28, 2]"
      ]
     },
     "execution_count": 14,
     "metadata": {},
     "output_type": "execute_result"
    }
   ],
   "source": [
    "numbers = []\n",
    "print(data)\n",
    "for k, v in data.items():\n",
    "    if 'drwtNo' in k:\n",
    "        numbers.append(v)\n",
    "numbers"
   ]
  },
  {
   "cell_type": "code",
   "execution_count": null,
   "metadata": {},
   "outputs": [],
   "source": []
  }
 ],
 "metadata": {
  "kernelspec": {
   "display_name": "Python 3",
   "language": "python",
   "name": "python3"
  },
  "language_info": {
   "codemirror_mode": {
    "name": "ipython",
    "version": 3
   },
   "file_extension": ".py",
   "mimetype": "text/x-python",
   "name": "python",
   "nbconvert_exporter": "python",
   "pygments_lexer": "ipython3",
   "version": "3.6.7"
  }
 },
 "nbformat": 4,
 "nbformat_minor": 2
}
