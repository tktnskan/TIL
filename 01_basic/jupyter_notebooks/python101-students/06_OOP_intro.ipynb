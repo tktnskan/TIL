{
 "cells": [
  {
   "cell_type": "markdown",
   "metadata": {},
   "source": [
    "# 시작하기전에\n",
    "\n",
    "<wikipedia - 객체지향 프로그래밍> \n",
    ">\n",
    "> 객체 지향 프로그래밍(영어: Object-Oriented Programming, OOP)은 컴퓨터 프로그래밍의 패러다임의 하나이다. 객체 지향 프로그래밍은 컴퓨터 프로그램을 명령어의 목록으로 보는 시각에서 벗어나 여러 개의 독립된 단위, 즉 \"객체\"들의 모임으로 파악하고자 하는 것이다. 각각의 객체는 메시지를 주고받고, 데이터를 처리할 수 있다.\n",
    ">\n",
    "> 명령형 프로그래밍인 절차지향 프로그래밍에서 발전된 형태를 나타내며, 기본 구성요소는 다음과 같다.\n",
    "\n",
    "* 클래스(Class) - 같은 종류(또는 문제 해결을 위한)의 집단에 속하는 속성(attribute)과 행위(behavior)를 정의한 것으로 객체지향 프로그램의 기본적인 사용자 정의 데이터형(user define data type)이라고 할 수 있다. 클래스는 프로그래머가 아니지만 해결해야 할 문제가 속하는 영역에 종사하는 사람이라면 사용할 수 있고, 다른 클래스 또는 외부 요소와 독립적으로 디자인하여야 한다.\n",
    "\n",
    "\n",
    "* 인스턴스 - 클래스의 인스턴스(실제로 메모리상에 할당된 것)이다. 객체는 자신 고유의 속성(attribute)을 가지며 클래스에서 정의한 행위(behavior)를 수행할 수 있다. 객체의 행위는 클래스에 정의된 행위에 대한 정의를 공유함으로써 메모리를 경제적으로 사용한다.\n",
    "\n",
    "\n",
    "* 메서드(Method) - 클래스로부터 생성된 객체를 사용하는 방법으로서 객체에 명령을 내리는 것이라 할 수 있다. 메서드는 한 객체의 속성을 조작하는 데 사용된다."
   ]
  },
  {
   "cell_type": "markdown",
   "metadata": {},
   "source": []
  },
  {
   "cell_type": "code",
   "execution_count": 7,
   "metadata": {},
   "outputs": [
    {
     "name": "stdout",
     "output_type": "stream",
     "text": [
      "<class 'complex'>\n"
     ]
    }
   ],
   "source": [
    "# 복소수를 하나 만들어보고, 타입을 출력해봅시다.\n",
    "img_number = 3 + 4j \n",
    "print(type(img_number))"
   ]
  },
  {
   "cell_type": "code",
   "execution_count": 9,
   "metadata": {},
   "outputs": [
    {
     "name": "stdout",
     "output_type": "stream",
     "text": [
      "3.0\n",
      "4.0\n"
     ]
    }
   ],
   "source": [
    "# 허수부랑 실수부를 함께 출력해봅시다.\n",
    "print(img_number.real)\n",
    "print(img_number.imag)"
   ]
  },
  {
   "cell_type": "code",
   "execution_count": 14,
   "metadata": {},
   "outputs": [
    {
     "name": "stdout",
     "output_type": "stream",
     "text": [
      "[1, 2, 3]\n"
     ]
    }
   ],
   "source": [
    "# 리스트를 하나 만들고 정렬해봅시다.\n",
    "a = [3, 2, 1]\n",
    "a.sort()\n",
    "print(a)"
   ]
  },
  {
   "cell_type": "code",
   "execution_count": 15,
   "metadata": {},
   "outputs": [
    {
     "name": "stdout",
     "output_type": "stream",
     "text": [
      "['__add__', '__class__', '__contains__', '__delattr__', '__delitem__', '__dir__', '__doc__', '__eq__', '__format__', '__ge__', '__getattribute__', '__getitem__', '__gt__', '__hash__', '__iadd__', '__imul__', '__init__', '__init_subclass__', '__iter__', '__le__', '__len__', '__lt__', '__mul__', '__ne__', '__new__', '__reduce__', '__reduce_ex__', '__repr__', '__reversed__', '__rmul__', '__setattr__', '__setitem__', '__sizeof__', '__str__', '__subclasshook__', 'append', 'clear', 'copy', 'count', 'extend', 'index', 'insert', 'pop', 'remove', 'reverse', 'sort']\n"
     ]
    }
   ],
   "source": [
    "# list class 의 object 들이 할 수 있는 것들을 알아봅시다.\n",
    "print(dir(list))"
   ]
  },
  {
   "cell_type": "markdown",
   "metadata": {},
   "source": [
    "## 실습 문제\n",
    "\n",
    "> 프로그래밍으로 나와 친구의 이름을 저장해보세요.\n",
    ">\n",
    "\n",
    "**각자의 명함과 지갑을 만들어봅시다.**\n",
    "\n",
    "* 내 생일, 전화번호, 이메일주소 정보를 담은 변수를 확인해봅시다.\n",
    "\n",
    "* 주머니(pocket)에는 돈(money)을 포함하여 현재 가지고 있는 것을 작성해보세요.\n",
    "\n",
    "* 나는 인사를 하면서 내 명함에 있는 정보 하나를 이야기합니다. `greeting` 함수를 만듭시다.\n",
    "\n",
    "* 나는 주머니에 원하는 것과 갯수를 지정하여 넣을 수 있습니다. \n",
    "\n",
    "  기존에 값이 있으면, 갯수를 추가하고 없으면 새로 만드는 `in_my_pocket` 함수를 만듭시다.\n",
    "  \n",
    "**친구의 정보와 지갑도 만들어봅시다.**"
   ]
  },
  {
   "cell_type": "code",
   "execution_count": 24,
   "metadata": {},
   "outputs": [
    {
     "name": "stdout",
     "output_type": "stream",
     "text": [
      "Hi!!\n",
      "my name is 유태영\n",
      "my phone is 01012345678\n",
      "my email is neo@hphk.kr\n",
      "{'money': 1000, 'candy': 3, 'cigar': 1}\n"
     ]
    }
   ],
   "source": [
    "# 아래에 자유롭게 코드를 작성해보세요.\n",
    "my_info = {\n",
    "    'name': '유태영',\n",
    "    'phone': '01012345678',\n",
    "    'email': 'neo@hphk.kr'\n",
    "}\n",
    "\n",
    "my_pocket = {\n",
    "    'money': 1000,\n",
    "    'candy': 3\n",
    "}\n",
    "\n",
    "def greeting(info):\n",
    "    print('Hi!!')\n",
    "    for k, v in info.items():\n",
    "        print(f'my {k} is {v}')\n",
    "    \n",
    "greeting(my_info)\n",
    "\n",
    "\n",
    "def in_my_pocket(pocket, stuff, count):\n",
    "    if pocket.get(stuff):\n",
    "        pocket[stuff] += count\n",
    "    else:\n",
    "        pocket[stuff] = count\n",
    "    return pocket\n",
    "\n",
    "print(in_my_pocket(my_pocket, 'cigar', 1))"
   ]
  },
  {
   "cell_type": "code",
   "execution_count": 85,
   "metadata": {},
   "outputs": [
    {
     "name": "stdout",
     "output_type": "stream",
     "text": [
      "안녕하세요, 제 이름은 유태영 입니다\n"
     ]
    }
   ],
   "source": [
    "mates = {\n",
    "    'yu': {\n",
    "        'name': '유태영',\n",
    "        'github': 'eduyu',\n",
    "        'blood_type': 'O',\n",
    "    },\n",
    "    \n",
    "    'kim': {\n",
    "        'name': '김탁희',\n",
    "        'github': 'edukim',\n",
    "        'blood_type': 'A'\n",
    "    }\n",
    "}\n",
    "\n",
    "print(f'안녕하세요, 제 이름은 {mates[\"yu\"][\"name\"]} 입니다')\n",
    "\n",
    "def arrive_yu():\n",
    "    print('화장실에 간다.')\n",
    "    print('출석을 찍는다.')\n",
    "    print('물을 뜬다.')\n",
    "    \n",
    "\n",
    "mates['john'] = {\n",
    "    'name': '강동주',\n",
    "    \n",
    "}"
   ]
  },
  {
   "cell_type": "code",
   "execution_count": 86,
   "metadata": {},
   "outputs": [
    {
     "name": "stdout",
     "output_type": "stream",
     "text": [
      "안녕하세요! 제 이름은 유태영 입니다.\n",
      "제 github id 는 eduyu 이고, 혈액형은 O형 입니다.\n",
      "3 703\n",
      "안녕하세요! 제 이름은 김탁희 입니다.\n",
      "제 github id 는 edutak 이고, 혈액형은 A형 입니다.\n",
      "3 703\n"
     ]
    }
   ],
   "source": [
    "class Mate:\n",
    "    classroom = 703\n",
    "    ban = 3\n",
    "    breath = True\n",
    "    def __init__(self, name, github, blood, arrive):\n",
    "        self.name = name\n",
    "        self.blood = blood\n",
    "        self.github = github\n",
    "        self.arrive = arrive\n",
    "        \n",
    "    def intro(self):\n",
    "        print(f'안녕하세요! 제 이름은 {self.name} 입니다.')\n",
    "        print(f'제 github id 는 {self.github} 이고, 혈액형은 {self.blood}형 입니다.')\n",
    "        \n",
    "    def dochak(self):\n",
    "        print(f'{self.name}는 도착하면 {self.arrive} 를 합니다.')\n",
    "        \n",
    "yu = Mate('유태영', 'eduyu', 'O', '물뜨기')\n",
    "yu.intro()\n",
    "print(yu.ban, yu.classroom)\n",
    "\n",
    "kim = Mate('김탁희', 'edutak', 'A', '잠자기')\n",
    "kim.intro()\n",
    "print(kim.ban, kim.classroom)"
   ]
  },
  {
   "cell_type": "code",
   "execution_count": 20,
   "metadata": {},
   "outputs": [
    {
     "name": "stdout",
     "output_type": "stream",
     "text": [
      "True\n",
      "한글자만 넣어라1\n",
      "ㅋㅋㅋㅋ\n"
     ]
    },
    {
     "data": {
      "text/plain": [
       "False"
      ]
     },
     "execution_count": 20,
     "metadata": {},
     "output_type": "execute_result"
    }
   ],
   "source": [
    "class Text:\n",
    "    def __init__(self, content):\n",
    "        self.content = content\n",
    "\n",
    "    def is_palindrome(self):\n",
    "        txt = self.content.replace(' ', '').lower()\n",
    "        return txt == ''.join(reversed(txt))\n",
    "    \n",
    "    def start_hangman(self):\n",
    "        guess = input('한글자만 넣어라')\n",
    "        if guess in self.content:\n",
    "            print('오 맞음!')\n",
    "            return True\n",
    "        else:\n",
    "            print('ㅋㅋㅋㅋ')\n",
    "            return False\n",
    "        \n",
    "my_text = Text('A santa at NASA')\n",
    "print(my_text.is_palindrome()) # True\n",
    "\n",
    "Text('apple').start_hangman()\n",
    "\n",
    "# def List:\n",
    "#     def append(self, e):\n",
    "#         self += [e]\n",
    "    \n",
    "#     def sort(self):\n",
    "#         self = self.정렬\n",
    "        \n",
    "#     def count(self, e):\n",
    "#         # some logic to count e\n",
    "#         return cnt\n"
   ]
  },
  {
   "cell_type": "code",
   "execution_count": null,
   "metadata": {},
   "outputs": [],
   "source": []
  },
  {
   "cell_type": "code",
   "execution_count": null,
   "metadata": {},
   "outputs": [],
   "source": [
    "# in_my_pocket 함수를 통해 내 주머니에 내용을 추가해봅시다."
   ]
  },
  {
   "cell_type": "code",
   "execution_count": null,
   "metadata": {},
   "outputs": [],
   "source": [
    "# greeting 함수를 통해 인사를 해봅시다.\n",
    "#=> 안녕, kim이야. 01012345678"
   ]
  },
  {
   "cell_type": "markdown",
   "metadata": {},
   "source": [
    "# 클래스 및 인스턴스"
   ]
  },
  {
   "cell_type": "markdown",
   "metadata": {},
   "source": [
    "## 클래스 객체\n",
    "\n",
    "```python\n",
    "class ClassName:\n",
    "    \n",
    "```\n",
    "\n",
    "* 선언과 동시에 클래스 객체가 생성됨.\n",
    "\n",
    "* 또한, 선언된 공간은 지역 스코프로 사용된다.\n",
    "\n",
    "* 정의된 어트리뷰트 중 변수는 멤버 변수로 불리운다.\n",
    "\n",
    "* 정의된 함수(`def`)는 메서드로 불리운다."
   ]
  },
  {
   "cell_type": "code",
   "execution_count": 25,
   "metadata": {},
   "outputs": [
    {
     "name": "stdout",
     "output_type": "stream",
     "text": [
      "<class 'type'>\n",
      "<class '__main__.TestClass'>\n",
      "\n",
      "    This is Test Class\n",
      "    \n"
     ]
    }
   ],
   "source": [
    "# Class를 만들어봅시다.\n",
    "\n",
    "class TestClass:\n",
    "    \"\"\"\n",
    "    This is Test Class\n",
    "    \"\"\"\n",
    "\n",
    "print(type(TestClass))\n",
    "\n",
    "tc = TestClass()\n",
    "print(type(tc))\n",
    "print(tc.__doc__)"
   ]
  },
  {
   "cell_type": "code",
   "execution_count": 56,
   "metadata": {},
   "outputs": [
    {
     "name": "stdout",
     "output_type": "stream",
     "text": [
      "HELLO!\n"
     ]
    }
   ],
   "source": [
    "# Person 클래스를 만들어봅시다.\n",
    "class Person:\n",
    "    name = '홍길동'\n",
    "    \n",
    "    def say_hi(self):\n",
    "        print('HELLO!')\n",
    "    \n",
    "    def intro(self):\n",
    "        print(f'I am {self.name}')\n",
    "\n",
    "p = Person()\n",
    "p.say_hi()"
   ]
  },
  {
   "cell_type": "markdown",
   "metadata": {},
   "source": [
    "* 선언시 self는 반드시 작성해주세요! 나중에 설명드립니다."
   ]
  },
  {
   "cell_type": "markdown",
   "metadata": {},
   "source": [
    "## 인스턴스 객체\n",
    "\n",
    "* 인스턴스 객체는 `ClassName()`을 호출함으로써 선언된다.\n",
    "\n",
    "* 인스턴스 객체와 클래스 객체는 서로 다른 이름 공간을 가지고 있다.\n",
    "\n",
    "* 인스턴스 -> 클래스 -> 전역 순으로 탐색을 한다."
   ]
  },
  {
   "cell_type": "code",
   "execution_count": 57,
   "metadata": {},
   "outputs": [],
   "source": [
    "# 클래스 Person의 인스턴스 'iu' 를 만들어봅시다. \n",
    "iu = Person()"
   ]
  },
  {
   "cell_type": "code",
   "execution_count": 58,
   "metadata": {},
   "outputs": [
    {
     "name": "stdout",
     "output_type": "stream",
     "text": [
      "HELLO!\n"
     ]
    }
   ],
   "source": [
    "# 인사하는 메서드를 호출해봅시다.\n",
    "iu.say_hi()"
   ]
  },
  {
   "cell_type": "code",
   "execution_count": 59,
   "metadata": {},
   "outputs": [
    {
     "data": {
      "text/plain": [
       "'홍길동'"
      ]
     },
     "execution_count": 59,
     "metadata": {},
     "output_type": "execute_result"
    }
   ],
   "source": [
    "# iu의 이름을 확인해봅시다.\n",
    "iu.name"
   ]
  },
  {
   "cell_type": "code",
   "execution_count": 60,
   "metadata": {},
   "outputs": [
    {
     "name": "stdout",
     "output_type": "stream",
     "text": [
      "IU\n"
     ]
    }
   ],
   "source": [
    "# iu로 이름을 바꿔주세요.\n",
    "iu.name = 'IU'\n",
    "print(iu.name)"
   ]
  },
  {
   "cell_type": "code",
   "execution_count": 61,
   "metadata": {},
   "outputs": [
    {
     "name": "stdout",
     "output_type": "stream",
     "text": [
      "I am IU\n"
     ]
    }
   ],
   "source": [
    "# iu가 인사를 합니다.\n",
    "iu.intro()"
   ]
  },
  {
   "cell_type": "code",
   "execution_count": 72,
   "metadata": {},
   "outputs": [
    {
     "data": {
      "text/plain": [
       "__main__.Person"
      ]
     },
     "execution_count": 72,
     "metadata": {},
     "output_type": "execute_result"
    }
   ],
   "source": [
    "# iu와 Person이 같은지 확인해보겠습니다.\n",
    "isinstance(iu, Person)\n",
    "\n",
    "# if isinstance(user_input, str):\n"
   ]
  },
  {
   "cell_type": "code",
   "execution_count": 74,
   "metadata": {},
   "outputs": [
    {
     "data": {
      "text/plain": [
       "True"
      ]
     },
     "execution_count": 74,
     "metadata": {},
     "output_type": "execute_result"
    }
   ],
   "source": [
    "# iu와 Person이 같은지 확인해보겠습니다.\n",
    "type(iu) == Person\n",
    "type('a') == str"
   ]
  },
  {
   "cell_type": "code",
   "execution_count": 75,
   "metadata": {},
   "outputs": [
    {
     "name": "stdout",
     "output_type": "stream",
     "text": [
      "<__main__.Person object at 0x000001C7EC2B6240>\n"
     ]
    }
   ],
   "source": [
    "# iu를 출력해봅시다.\n",
    "print(iu)"
   ]
  },
  {
   "cell_type": "code",
   "execution_count": 76,
   "metadata": {},
   "outputs": [
    {
     "data": {
      "text/plain": [
       "<__main__.Person at 0x1c7ec2b6240>"
      ]
     },
     "execution_count": 76,
     "metadata": {},
     "output_type": "execute_result"
    }
   ],
   "source": [
    "# iu를 출력해봅시다 2.\n",
    "iu"
   ]
  },
  {
   "cell_type": "code",
   "execution_count": 77,
   "metadata": {},
   "outputs": [
    {
     "data": {
      "text/plain": [
       "__main__.Person"
      ]
     },
     "execution_count": 77,
     "metadata": {},
     "output_type": "execute_result"
    }
   ],
   "source": [
    "# type을 확인해봅시다.\n",
    "type(iu)"
   ]
  },
  {
   "cell_type": "markdown",
   "metadata": {},
   "source": [
    "* 파이썬 출력의 비밀 : repr, str"
   ]
  },
  {
   "cell_type": "code",
   "execution_count": null,
   "metadata": {},
   "outputs": [],
   "source": []
  },
  {
   "cell_type": "code",
   "execution_count": 79,
   "metadata": {},
   "outputs": [],
   "source": [
    "# 강다니엘을 만들어봅시다.\n",
    "강다니엘 = Person()"
   ]
  },
  {
   "cell_type": "code",
   "execution_count": 83,
   "metadata": {},
   "outputs": [
    {
     "name": "stdout",
     "output_type": "stream",
     "text": [
      "<__main__.Person object at 0x000001C7EC2D10B8> Daniel\n",
      "Daniel\n"
     ]
    }
   ],
   "source": [
    "# 강다니엘을 출력해봅시다.\n",
    "print(강다니엘, 강다니엘.name)\n",
    "강다니엘.name = 'Daniel'\n",
    "print(강다니엘.name)"
   ]
  },
  {
   "cell_type": "markdown",
   "metadata": {},
   "source": [
    "## 실습 문제 발전\n",
    "\n",
    "> 지금까지 배운 것을 통해서 Person 클래스를 만들고, 친구와 나를 표현해봅시다.\n",
    ">\n",
    "> 주머니와 정보를 가지고 있고 (멤버 변수)\n",
    "> \n",
    "> 인사(`greeting()`)와 주머니에 내용을 추가(`in_my_pocket()`)할 수 있습니다. (메서드)\n",
    ">\n",
    "> 추가적으로 `get_my_pocket()`으로 지갑에 담긴 정보를 가져와 봅시다.\n",
    ">\n",
    "> 그리고 사람을 출력하면, 지갑을 제외한 정보를 보여줘보세요. "
   ]
  },
  {
   "cell_type": "code",
   "execution_count": null,
   "metadata": {},
   "outputs": [],
   "source": [
    "# 아래에 코드를 작성해주세요.\n"
   ]
  },
  {
   "cell_type": "markdown",
   "metadata": {},
   "source": [
    "## MyList만들기\n",
    "\n",
    "> 이제 배운 것을 활용하여 나만의 리스트 객체를 만들 수 있습니다. \n",
    ">\n",
    "> `class MyList:`\n",
    ">\n",
    "\n",
    "```\n",
    "* 변수\n",
    "data : 비어 있는 리스트\n",
    "\n",
    "* 메서드 \n",
    "append : 값을 받아 추가합니다.\n",
    "pop : 마지막에 있는 값을 없애고, 해당 값을 리턴합니다.\n",
    "reverse : 제자리에서 뒤집고 리턴 값은 없습니다.\n",
    "count(x) : x의 갯수를 반환합니다.\n",
    "clear : 값을 모두 삭제합니다.\n",
    "\n",
    "__repr__ : ex) '리스트 내용 1, 2, 3'\n",
    "```"
   ]
  },
  {
   "cell_type": "code",
   "execution_count": null,
   "metadata": {},
   "outputs": [],
   "source": [
    "# 아래에 코드를 작성해주세요."
   ]
  },
  {
   "cell_type": "markdown",
   "metadata": {},
   "source": [
    "## 자유롭게 만들어보기\n",
    "\n",
    "> 이 세상에 있는 무엇인가를 자유롭게 표현해주세요."
   ]
  },
  {
   "cell_type": "code",
   "execution_count": 9,
   "metadata": {},
   "outputs": [],
   "source": [
    "# 아래에 코드를 작성해주세요.\n",
    "class Pokemon:\n",
    "    def __init__(self, level):\n",
    "        self.level = level\n",
    "        self.hp = self.level * 10\n",
    "#         self.stamina = self.level\n",
    "        \n",
    "    def set_hp(self, point):\n",
    "        self.hp += point\n",
    "        \n",
    "#     def stamina(self, consume):\n",
    "#         self.stamina += consume\n",
    "        \n",
    "    def check_status(self):\n",
    "        if self.hp > 0:\n",
    "            return True\n",
    "        else: \n",
    "            return False\n",
    "        \n",
    "    def print_status(self):\n",
    "        a = str(self.name) + '의 hp : ' + str(self.hp) +'\\n'\n",
    "        print(a)"
   ]
  },
  {
   "cell_type": "code",
   "execution_count": 10,
   "metadata": {},
   "outputs": [],
   "source": [
    "import random\n",
    "class Pikachu(Pokemon):\n",
    "    \n",
    "    name = '피카츄'\n",
    "    types = ('elec')\n",
    "    size = ('small')\n",
    "    \n",
    "\n",
    "    def body_attack(self, enemy):\n",
    "        print(self.name +' is cast \"body_attack\" '+str((-1.0 * self.level))+' damaged')\n",
    "        enemy.set_hp(-1.0 * self.level)\n",
    "        \n",
    "    def thousand_volt(self, enemy):\n",
    "        if 'water' in enemy.types:\n",
    "            enemy.set_hp(-1.5 * self.level)\n",
    "            print(self.name +' is cast \"thousand_volt\" '+ str((-1.5 * self.level)) + ' damaged!')\n",
    "            print('효과는 굉장했다!')\n",
    "        else:\n",
    "            print(self.name +' is cast \"thousand_volt\" '+ ' dameged!')\n",
    "            enemy.set_hp(-1.2 * self.level)\n",
    "            \n",
    "    def roll_attack(self, enemy):\n",
    "        if 'small' in enemy.size:\n",
    "            print(self.name +' is cast \"roll_attack\" '+ str((-1.3 * self.level))+ ' damaged!')\n",
    "            enemy.set_hp(-1.3 * self.level)\n",
    "        else:\n",
    "            print(self.name +' is cast \"roll_attack\" '+ str((-0.9 * self.level))+' damaged!')\n",
    "            enemy.set_hp(-0.9 * self.level)\n",
    "            \n",
    "    def attack(self, enemy):\n",
    "        c = int(input('Enter the type of your action (1. body attack 2. thousand volt 3. roll attack): '))\n",
    "#         if self.stamina < 2.0:\n",
    "#             self.body_attack(enemy)\n",
    "#             self.stamina(1.0)\n",
    "#         else:\n",
    "#             if c == 1:\n",
    "#                 self.body_attack(enemy)\n",
    "#             elif c == 2:\n",
    "#                 self.thousand_volt(enemy)\n",
    "#                 self.stamina(-3.0)\n",
    "#             elif c == 3:\n",
    "#                 self.roll_attack(enemy)\n",
    "#                 self.stamina(-2.0)\n",
    "#             else:\n",
    "#                 attack(self, enemy)\n",
    "        if c == 1:\n",
    "            self.body_attack(enemy)\n",
    "        elif c == 2:\n",
    "            self.thousand_volt(enemy)\n",
    "        elif c == 3:\n",
    "            self.roll_attack(enemy)\n",
    "            \n",
    "            \n",
    "class Squirtle(Pokemon):\n",
    "    name = '꼬부기'\n",
    "    types = ('water')\n",
    "    size = ('small')\n",
    "    picture = '''\n",
    "                  _,........__\n",
    "            ,-'            \"`-.\n",
    "          ,'                   `-.\n",
    "        ,'                        \\\n",
    "      ,'                           .\n",
    "      .'\\               ,\"\".       `\n",
    "     ._.'|             / |  `       \\\n",
    "     |   |            `-.'  ||       `.\n",
    "     |   |            '-._,'||       | \\\n",
    "     .`.,'             `..,'.'       , |`-.\n",
    "     l                       .'`.  _/  |   `.\n",
    "     `-.._'-   ,          _ _'   -\" \\  .     `\n",
    "`.\"\"\"'-.`-...,---------','         `. `....__.\n",
    ".'        `\"-..___      __,'\\          \\  \\     \\\n",
    "\\_ .          |   `\"\"\"'    `.           . \\     \\\n",
    "  `.          |              `.          |  .     L\n",
    "    `.        |`--...________.'.        j   |     |\n",
    "      `._    .'      |          `.     .|   ,     |\n",
    "         `--,\\       .            `7\"\"' |  ,      |\n",
    "            ` `      `            /     |  |      |    _,-'\"\"`-.\n",
    "             \\ `.     .          /      |  '      |  ,'          `.\n",
    "              \\  v.__  .        '       .   \\    /| /              \\\n",
    "               \\/    `\"\"\\\"\"`.       \\   \\  /.''                |\n",
    "                `        .        `._ ___,j.  `/ .-       ,---.     |\n",
    "                ,`-.      \\         .\"     `.  |/        j     `    |\n",
    "               /    `.     \\       /         \\ /         |     /    j\n",
    "              |       `-.   7-.._ .          |\"          '         /\n",
    "              |          `./_    `|          |            .     _,'\n",
    "              `.           / `----|          |-............`---'\n",
    "                \\          \\      |          |\n",
    "               ,'           )     `.         |\n",
    "                7____,,..--'      /          |\n",
    "                                  `---.__,--.'\n",
    "    '''\n",
    "    \n",
    "    def body_attack(self, enemy):\n",
    "        print(self.name +' is cast \"body_attack\" '+ str((-1.1 * self.level))+' damaged!')\n",
    "        enemy.set_hp(-1.1 * self.level)\n",
    "    \n",
    "    def water_attack(self, enemy):\n",
    "        if 'fire' in enemy.types:\n",
    "            enemy.set_hp(-1.5 * self.level)\n",
    "            print(self.name +' is cast \"water_attack\" '+ str((-1.5 * self.level))+' damaged!')\n",
    "            print('효과는 굉장했다!')\n",
    "        elif 'elec' in enemy.types:\n",
    "            enemy.set_hp(-0.8 * self.level)\n",
    "            print(self.name +' is cast \"water_attack\" '+ str((-0.8 * self.level))+' damaged!')\n",
    "            print('효과는 ...별로...')\n",
    "        else:\n",
    "            print(self.name +' is cast \"water_attack\" '+ str((-1.2 * self.level))+' damaged!')\n",
    "            enemy.set_hp(-1.2 * self.level)\n",
    "    \n",
    "    def throw_shells(self, enemy):\n",
    "        print(self.name +' is cast \"throw_shells\" '+ str((-1.15 * self.level))+' damaged!')\n",
    "        enemy.set_hp(-1.15 * self.level)\n",
    "    \n",
    "    def attack(self, enemy):\n",
    "        c = random.choice([1, 2, 3])\n",
    "        if c == 1:\n",
    "            self.body_attack(enemy)\n",
    "        elif c == 2:\n",
    "            self.water_attack(enemy)\n",
    "        elif c == 3:\n",
    "            self.throw_shells(enemy) \n",
    "            \n",
    "            \n",
    "class Charmander(Pokemon):\n",
    "    name = '파이리'\n",
    "    types = ('fire')\n",
    "    size = ('small')\n",
    "    picture = '''\n",
    "        _.--\"\"`-..\n",
    "            ,'          `.\n",
    "          ,'          __  `.\n",
    "         /|          \" __   \\\n",
    "        , |           / |.   .\n",
    "        |,'          !_.'|   |\n",
    "      ,'             '   |   |\n",
    "     /              |`--'|   |\n",
    "    |                `---'   |\n",
    "     .   ,                   |                       ,\".\n",
    "      ._     '           _'  |                    , ' \\ `\n",
    "  `.. `.`-...___,...---\"\"    |       __,.        ,`\"   L,|\n",
    "  |, `- .`._        _,-,.'   .  __.-'-. /        .   ,    \\\n",
    "-:..     `. `-..--_.,.<       `\"      / `.        `-/ |   .\n",
    "  `,         \"\"''     `.              ,'         |   |  ',,\n",
    "    `.      '            '            /          '    |'. |/\n",
    "      `.   |              \\       _,-'           |       ''\n",
    "        `._'               \\   '\"\\                .      |\n",
    "           |                '     \\                `._  ,'\n",
    "           |                 '     \\                 .'|\n",
    "           |                 .      \\                | |\n",
    "           |                 |       L              ,' |\n",
    "           `                 |       |             /   '\n",
    "            \\                |       |           ,'   /\n",
    "          ,' \\               |  _.._ ,-..___,..-'    ,'\n",
    "         /     .             .      `!             ,j'\n",
    "        /       `.          /        .           .'/\n",
    "       .          `.       /         |        _.'.'\n",
    "        `.          7`'---'          |------\"'_.'\n",
    "       _,.`,_     _'                ,''-----\"'\n",
    "   _,-_    '       `.     .'      ,\\\n",
    "   -\" /`.         _,'     | _  _  _.|\n",
    "    \"\"--'---\"\"''\"\"        `' '! |! /\n",
    "                            `\" \" -' \n",
    "        '''\n",
    "\n",
    "    \n",
    "    def body_attack(self, enemy):\n",
    "        print(self.name +' is cast \"body_attack\" '+ str((-1.0 * self.level))+' damaged!')\n",
    "        enemy.set_hp(-1.0 * self.level)\n",
    "    \n",
    "    def fireball(self, enemy):\n",
    "        if 'grass' in enemy.types:\n",
    "            enemy.set_hp(-1.3 * self.level)\n",
    "            print(self.name +' is cast \"fireball\" '+ str((-1.7 * self.level))+' damaged!')\n",
    "            print('효과는 굉장했다!')\n",
    "        elif 'water' in enemy.types:\n",
    "            enemy.set_hp(-0.9 * self.level)\n",
    "            print(self.name +' is cast \"fireball\" '+ str((-0.9 * self.level))+' damaged!')\n",
    "            print('효과는 ...별로...')\n",
    "        else:\n",
    "            print(self.name +' is cast \"fireball\" '+ str((-1.1 * self.level))+' damaged!')\n",
    "            enemy.set_hp(-1.1 * self.level)\n",
    "    \n",
    "    def firebreath(self, enemy):\n",
    "        if 'grass' in enemy.types:\n",
    "            enemy.set_hp(-1.7 * self.level)\n",
    "            print(self.name +' is cast \"firebreath\" '+ str((-1.7 * self.level))+' damaged!')\n",
    "            print('효과는 굉장했다!')\n",
    "        elif 'water' in enemy.types:\n",
    "            enemy.set_hp(-0.6 * self.level)\n",
    "            print(self.name +' is cast \"firebreath\" '+ str((-0.6 * self.level))+' damaged!')\n",
    "            print('효과는 ...별로...')\n",
    "        else:\n",
    "            print(self.name +' is cast \"firebreath\" '+ str((-1.2 * self.level))+' damaged!')\n",
    "            enemy.set_hp(-1.2 * self.level)\n",
    "    \n",
    "    \n",
    "    def attack(self, enemy):\n",
    "        c = random.choice([1, 2, 3])\n",
    "        if c == 1:\n",
    "            self.body_attack(enemy)\n",
    "        elif c == 2:\n",
    "            self.fireball(enemy)\n",
    "        elif c == 3:\n",
    "            self.firebreath(enemy) \n",
    "            \n",
    "            \n",
    "class Bulbasaur(Pokemon):\n",
    "    name = '이상해씨'\n",
    "    types = ('fire')\n",
    "    size = ('small')\n",
    "    picture = '''\n",
    "                  /\n",
    "                        _,.------....___,.' ',.-.\n",
    "                     ,-'          _,.--\"        |\n",
    "                   ,'         _.-'              .\n",
    "                  /   ,     ,'                   `\n",
    "                 .   /     /                     ``.\n",
    "                 |  |     .                       \\.\\\n",
    "       ____      |___._.  |       __               \\ `.\n",
    "     .'    `---\"\"       ``\"-.--\"'`  \\               .  \\\n",
    "    .  ,            __               `              |   .\n",
    "    `,'         ,-\"'  .               \\             |    L\n",
    "   ,'          '    _.'                -._          /    |\n",
    "  ,`-.    ,\".   `--'                      >.      ,'     |\n",
    " . .'\\'   `-'       __    ,  ,-.         /  `.__.-      ,'\n",
    " ||:, .           ,'  ;  /  / \\ `        `.    .      .'/\n",
    " j|:D  \\          `--'  ' ,'_  . .         `.__, \\   , /\n",
    "/ L:_  |                 .  \"' :_;                `.'.'\n",
    ".    \"\"'                  \"\"''\"\"                    V\n",
    " `.                                 .    `.   _,..  `\n",
    "   `,_   .    .                _,-'/    .. `,'   __  `\n",
    "    ) \\`._        ___....----\"'  ,'   .'  \\ |   '  \\  .\n",
    "   /   `. \"`-.--\"'         _,' ,'     `---' |    `./  |\n",
    "  .   _  `\"\"'--.._____..--\"   ,             '         |\n",
    "  | .\" `. `-.                /-.           /          ,\n",
    "  | `._.'    `,_            ;  /         ,'          .\n",
    " .'          /| `-.        . ,'         ,           ,\n",
    " '-.__ __ _,','    '`-..___;-...__   ,.'\\ ____.___.'\n",
    " `\"^--'..'   '-`-^-'\"--    `-^-'`.''\"\"''`.,^.`.--' \n",
    "        ''\"\n",
    "        '''\n",
    "    \n",
    "    def body_attack(self, enemy):\n",
    "        print(self.name +' is cast \"body_attack\" '+ str((-1.0 * self.level))+' damaged!')\n",
    "        enemy.set_hp(-1.25 * self.level)\n",
    "    \n",
    "    def whip_smash(self, enemy):\n",
    "        print(self.name +' is cast \"whip_smash\" '+ str((-1.0 * self.level))+' damaged!')\n",
    "        enemy.set_hp(-1.25 * self.level)\n",
    "    \n",
    "    def overgrow(self):\n",
    "        print(self.name +' is cast \"overgrow\" '+ str((1.0 * self.level))+' healed!')\n",
    "        self.set_hp(1.0 * self.level)\n",
    "    \n",
    "    def attack(self, enemy):\n",
    "        c = random.choice([1, 2, 3])\n",
    "        if c == 1:\n",
    "            self.body_attack(enemy)\n",
    "        elif c == 2:\n",
    "            self.whip_smash(enemy)\n",
    "        elif c == 3:\n",
    "            self.overgrow() \n",
    "            "
   ]
  },
  {
   "cell_type": "code",
   "execution_count": 21,
   "metadata": {},
   "outputs": [
    {
     "name": "stdout",
     "output_type": "stream",
     "text": [
      "피카츄 의 체력: 200\n",
      "꼬부기 의 체력: 190\n",
      "피카츄 의 체력: 177.32\n",
      "꼬부기 의 체력: 170\n",
      "효과는 굉장했다!\n",
      "피카츄 의 체력: 156.74\n",
      "꼬부기 의 체력: 144.0\n",
      "피카츄 의 체력: 136.16000000000003\n",
      "꼬부기 의 체력: 124.0\n",
      "피카츄 의 체력: 113.48000000000002\n",
      "꼬부기 의 체력: 104.0\n",
      "효과는 굉장했다!\n",
      "피카츄 의 체력: 90.80000000000001\n",
      "꼬부기 의 체력: 78.0\n",
      "피카츄 의 체력: 68.12\n",
      "꼬부기 의 체력: 58.0\n",
      "효과는 굉장했다!\n",
      "피카츄 의 체력: 47.540000000000006\n",
      "꼬부기 의 체력: 32.0\n",
      "효과는 굉장했다!\n",
      "피카츄 의 체력: 26.960000000000008\n",
      "꼬부기 의 체력: 6.0\n",
      "효과는 굉장했다!\n",
      "피카츄 의 체력: 4.280000000000008\n",
      "피카츄 의 승리!\n"
     ]
    }
   ],
   "source": [
    "def battle(p1, p2):\n",
    "    import random\n",
    "    # 선공 후공 결정\n",
    "    vs = [p1, p2]\n",
    "    random.shuffle(vs)\n",
    "    winner = 0\n",
    "    vs = tuple(vs)\n",
    "    prev, after = tuple(vs)\n",
    "    p = p2.name +'(level = '+ str(p2.level) +', hp = ' + str(p2.level*10) + ') 출현!!'\n",
    "    print(p2.picture)\n",
    "    print(p)\n",
    "    \n",
    "    print('\\n\\n내 포켓몬 : \\n'+ p1.name +'(level = '+ str(p1.level) +', hp = ' + str(p1.level*10) + ')\\n') \n",
    "    \n",
    "    if p1.level > p2.level + 5:\n",
    "        print('enemy is too weak...\\n')\n",
    "        k = input('would you let him go? yes(1) or no(2): ')\n",
    "        if k == 2:\n",
    "            while prev.check_status() and after.check_status():\n",
    "                if prev.check_status:\n",
    "                    prev.attack(after)\n",
    "                    after.print_status()\n",
    "                else:\n",
    "                    winner = after\n",
    "                    break\n",
    "                if after.check_status():\n",
    "                    after.attack(prev)\n",
    "                    prev.print_status()\n",
    "                else:\n",
    "                    winner = prev\n",
    "                    break\n",
    "\n",
    "        else:\n",
    "            print(p2.name + '이(가) 도망갔습니다.')\n",
    "        \n",
    "        \n",
    "            \n",
    "        \n",
    "    elif p1.level < p2.level - 5:\n",
    "        print('WARNING: enemy is way too strong to beat him.. RUN!!\\n')\n",
    "        k = input('do you want to escape from him? yes(1) or no(0): ')\n",
    "        c = random.choice([1, 2])\n",
    "        if k == 0:\n",
    "            print('\\nyou are failed to escape...Wish you survive..')\n",
    "            while prev.check_status() and after.check_status():\n",
    "                if prev.check_status:\n",
    "                    prev.attack(after)\n",
    "                    after.print_status()\n",
    "                else:\n",
    "                    winner = after\n",
    "                    break\n",
    "                if after.check_status():\n",
    "                    after.attack(prev)\n",
    "                    prev.print_status()\n",
    "                else:\n",
    "                    winner = prev\n",
    "                    break\n",
    "        \n",
    "            \n",
    "        elif c == 1:\n",
    "            print('\\nEscape succeed!')\n",
    "            \n",
    "        elif c == 2:\n",
    "            print('\\nyou are failed to escape...Wish you survive..')\n",
    "            while prev.check_status() and after.check_status():\n",
    "                if prev.check_status:\n",
    "                    prev.attack(after)\n",
    "                    after.print_status()\n",
    "                else:\n",
    "                    winner = after\n",
    "                    break\n",
    "                if after.check_status():\n",
    "                    after.attack(prev)\n",
    "                    prev.print_status()\n",
    "                else:\n",
    "                    winner = prev\n",
    "                    break\n",
    "    \n",
    "    print(winner.name + ' 이(가) 승리하였습니다.')\n",
    "        \n",
    "#     while prev.check_status() and after.check_status():\n",
    "#         if prev.check_status:\n",
    "#             prev.attack(after)\n",
    "#             prev.print_status()\n",
    "#         else:\n",
    "#             winner = after\n",
    "#             break\n",
    "#         if after.check_status():\n",
    "#             after.attack(prev)\n",
    "#             after.print_status()\n",
    "#         else:\n",
    "#             winner = prev\n",
    "#             break\n",
    "            \n",
    "#     print((winner.name) + '이 승리하였습니다.')\n",
    "\n",
    "monster = random.choice(['Squirtle','Charmander','Bulbasaur'])\n",
    "rand = random.choice(range(1,31))\n",
    "battle(Pikachu(10), Bulbasaur(random.choice(range(1,31))))"
   ]
  },
  {
   "cell_type": "code",
   "execution_count": 106,
   "metadata": {},
   "outputs": [],
   "source": [
    "a = random.shuffle([a, b])\n",
    "a"
   ]
  }
 ],
 "metadata": {
  "kernelspec": {
   "display_name": "Python 2",
   "language": "python",
   "name": "python2"
  },
  "language_info": {
   "codemirror_mode": {
    "name": "ipython",
    "version": 2
   },
   "file_extension": ".py",
   "mimetype": "text/x-python",
   "name": "python",
   "nbconvert_exporter": "python",
   "pygments_lexer": "ipython2",
   "version": "2.7.10"
  },
  "latex_envs": {
   "LaTeX_envs_menu_present": true,
   "autoclose": false,
   "autocomplete": true,
   "bibliofile": "biblio.bib",
   "cite_by": "apalike",
   "current_citInitial": 1,
   "eqLabelWithNumbers": true,
   "eqNumInitial": 1,
   "hotkeys": {
    "equation": "Ctrl-E",
    "itemize": "Ctrl-I"
   },
   "labels_anchors": false,
   "latex_user_defs": false,
   "report_style_numbering": false,
   "user_envs_cfg": false
  },
  "toc": {
   "base_numbering": 1,
   "nav_menu": {},
   "number_sections": true,
   "sideBar": true,
   "skip_h1_title": false,
   "title_cell": "Table of Contents",
   "title_sidebar": "Contents",
   "toc_cell": false,
   "toc_position": {},
   "toc_section_display": true,
   "toc_window_display": false
  }
 },
 "nbformat": 4,
 "nbformat_minor": 2
}
