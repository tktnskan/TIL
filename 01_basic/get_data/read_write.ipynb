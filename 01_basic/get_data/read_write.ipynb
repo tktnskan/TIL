{
 "cells": [
  {
   "cell_type": "code",
   "execution_count": 1,
   "metadata": {},
   "outputs": [],
   "source": [
    "import csv"
   ]
  },
  {
   "cell_type": "code",
   "execution_count": 25,
   "metadata": {},
   "outputs": [],
   "source": [
    "f = open('ss3.csv', 'a+', encoding='utf-8', newline='')\n",
    "\n",
    "writer = csv.writer(f)\n",
    "\n",
    "writer.writerow(\n",
    "    ['황은석', '강진우']\n",
    ")\n",
    "\n",
    "f.close()"
   ]
  },
  {
   "cell_type": "code",
   "execution_count": 26,
   "metadata": {},
   "outputs": [
    {
     "name": "stdout",
     "output_type": "stream",
     "text": [
      "['황은석', '강진우']\n",
      "[]\n",
      "['황은석', '강진우']\n",
      "[]\n",
      "['황은석', '강진우']\n",
      "[]\n",
      "['황은석', '강진우']\n",
      "['황은석', '강진우']\n",
      "['황은석', '강진우']\n",
      "['황은석', '강진우']\n",
      "['황은석', '강진우']\n",
      "['황은석', '강진우']\n",
      "['황은석', '강진우']\n",
      "['황은석', '강진우']\n",
      "['황은석', '강진우']\n",
      "['황은석', '강진우']\n",
      "['황은석', '강진우']\n"
     ]
    }
   ],
   "source": [
    "f_r = open('ss3.csv', 'r+', encoding='utf-8', newline='')\n",
    "reader = csv.reader(f_r)\n",
    "for line in reader:\n",
    "    print(line)"
   ]
  }
 ],
 "metadata": {
  "kernelspec": {
   "display_name": "Python 3",
   "language": "python",
   "name": "python3"
  },
  "language_info": {
   "codemirror_mode": {
    "name": "ipython",
    "version": 3
   },
   "file_extension": ".py",
   "mimetype": "text/x-python",
   "name": "python",
   "nbconvert_exporter": "python",
   "pygments_lexer": "ipython3",
   "version": "3.6.7"
  }
 },
 "nbformat": 4,
 "nbformat_minor": 2
}
