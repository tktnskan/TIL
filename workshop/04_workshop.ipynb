{
 "cells": [
  {
   "cell_type": "code",
   "execution_count": 3,
   "metadata": {},
   "outputs": [
    {
     "name": "stdout",
     "output_type": "stream",
     "text": [
      "*****\n",
      "*****\n",
      "*****\n",
      "*****\n",
      "*****\n",
      "*****\n",
      "*****\n",
      "*****\n",
      "*****\n",
      "87.75\n",
      "3 3 3 3\n"
     ]
    }
   ],
   "source": [
    "# 문제 1\n",
    "n = 5\n",
    "m = 9\n",
    "for i in range(1, m + 1):\n",
    "    print('*' * n)\n",
    "\n",
    "# 문제 2\n",
    "student = { 'python': 80, 'algorithm': 99, 'django': 89, 'flask': 83 }\n",
    "score = []\n",
    "for i in student.values():\n",
    "    score.append(i)\n",
    "print(sum(score)/len(score))\n",
    "\n",
    "# 문제 3\n",
    "\n",
    "blood_type = ['A', 'B', 'A', 'O', 'AB', 'AB', 'O', 'A', 'B', 'O', 'B', 'AB']\n",
    "a = []; b = []; o = []; ab = []\n",
    "\n",
    "for i in blood_type:\n",
    "    if i == 'A':\n",
    "        a.append(i)\n",
    "    elif i == 'B':\n",
    "        b.append(i)\n",
    "    elif i == 'O':\n",
    "        o.append(i)\n",
    "    else:\n",
    "        ab.append(i)\n",
    "a=len(a);b=len(b);o=len(o);ab=len(ab)\n",
    "print(a,b,o,ab)\n",
    "\n"
   ]
  },
  {
   "cell_type": "code",
   "execution_count": null,
   "metadata": {},
   "outputs": [],
   "source": []
  }
 ],
 "metadata": {
  "kernelspec": {
   "display_name": "Python 3",
   "language": "python",
   "name": "python3"
  },
  "language_info": {
   "codemirror_mode": {
    "name": "ipython",
    "version": 3
   },
   "file_extension": ".py",
   "mimetype": "text/x-python",
   "name": "python",
   "nbconvert_exporter": "python",
   "pygments_lexer": "ipython3",
   "version": "3.6.7"
  }
 },
 "nbformat": 4,
 "nbformat_minor": 2
}
