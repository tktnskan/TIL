{
 "cells": [
  {
   "cell_type": "code",
   "execution_count": null,
   "metadata": {},
   "outputs": [
    {
     "name": "stdout",
     "output_type": "stream",
     "text": [
      "input number: 2\n"
     ]
    }
   ],
   "source": [
    "def my_sqrt(number):\n",
    "    minimum, maximum = 0, 1\n",
    "    \n",
    "    while 1:\n",
    "        if number == maximum ** 2:\n",
    "            return maximum\n",
    "        elif minimum ** 2 < number < maximum ** 2:\n",
    "            guess = (minimum + maximum) / 2\n",
    "            \n",
    "            if round(minimum, 5) == round(maximum, 5):\n",
    "                return round(guess, 5)\n",
    "            elif guess ** 2 > number:\n",
    "                maximum = guess\n",
    "            else: \n",
    "                minimum = guess\n",
    "        else:\n",
    "            minimum += 1\n",
    "            maximum += 1\n",
    "\n",
    "my_sqrt(int(input('input number: ')))"
   ]
  },
  {
   "cell_type": "code",
   "execution_count": 18,
   "metadata": {},
   "outputs": [
    {
     "data": {
      "text/plain": [
       "9.949874371066201"
      ]
     },
     "execution_count": 18,
     "metadata": {},
     "output_type": "execute_result"
    }
   ],
   "source": [
    "def my_sqrt1(a,b):\n",
    "    if abs(a - b**2) < 0.000001:\n",
    "        return b\n",
    "    else:\n",
    "        b = (b + (a/b)) / 2.0\n",
    "        return my_sqrt1(a,b)\n",
    "    \n",
    "my_sqrt1(99,5)\n",
    "\n",
    "    "
   ]
  }
 ],
 "metadata": {
  "kernelspec": {
   "display_name": "Python 2",
   "language": "python",
   "name": "python2"
  },
  "language_info": {
   "codemirror_mode": {
    "name": "ipython",
    "version": 2
   },
   "file_extension": ".py",
   "mimetype": "text/x-python",
   "name": "python",
   "nbconvert_exporter": "python",
   "pygments_lexer": "ipython2",
   "version": "2.7.10"
  }
 },
 "nbformat": 4,
 "nbformat_minor": 2
}
