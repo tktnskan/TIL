{
 "cells": [
  {
   "cell_type": "markdown",
   "metadata": {},
   "source": [
    "# Day_1"
   ]
  },
  {
   "cell_type": "markdown",
   "metadata": {},
   "source": [
    "## Workshop"
   ]
  },
  {
   "cell_type": "code",
   "execution_count": 1,
   "metadata": {},
   "outputs": [],
   "source": [
    "# Question No.1\n",
    "n=5\n",
    "m=9"
   ]
  },
  {
   "cell_type": "code",
   "execution_count": null,
   "metadata": {},
   "outputs": [],
   "source": [
    "# Answer No.1\n",
    "\n",
    "line = '*' *n +'\\n'\n",
    "print(line*m)"
   ]
  },
  {
   "cell_type": "code",
   "execution_count": 1,
   "metadata": {
    "scrolled": true
   },
   "outputs": [
    {
     "data": {
      "text/plain": [
       "87.75"
      ]
     },
     "execution_count": 1,
     "metadata": {},
     "output_type": "execute_result"
    }
   ],
   "source": [
    "# Question No.2\n",
    "\n",
    "student = { 'python' : 80, 'algorithm' : 99, 'django' : 89, 'flask' : 83 }"
   ]
  },
  {
   "cell_type": "code",
   "execution_count": null,
   "metadata": {},
   "outputs": [],
   "source": [
    "# Answer No.2\n",
    "\n",
    "sum(student.values())/len(student)"
   ]
  },
  {
   "cell_type": "code",
   "execution_count": 36,
   "metadata": {},
   "outputs": [
    {
     "name": "stdout",
     "output_type": "stream",
     "text": [
      "{'A': 3, 'B': 3, 'O': 3, 'AB': 3}\n"
     ]
    }
   ],
   "source": [
    "# Question No.3\n",
    "\n",
    "blood_types = ['A','B','A','O','AB','AB','O','A','B','O','B','AB']"
   ]
  },
  {
   "cell_type": "code",
   "execution_count": null,
   "metadata": {},
   "outputs": [],
   "source": [
    "# Answer No.3\n",
    "\n",
    "Total_A=[]\n",
    "Total_B=[]\n",
    "Total_O=[]\n",
    "Total_AB=[]\n",
    "\n",
    "for i in blood_types:\n",
    "    if i == 'A':\n",
    "        Total_A.append(i)\n",
    "    elif i == 'B':\n",
    "        Total_B.append(i)\n",
    "    elif i == 'O':\n",
    "        Total_O.append(i)\n",
    "    else:\n",
    "        Total_AB.append(i)\n",
    "\n",
    "Total = {'A' : len(Total_A), 'B' : len(Total_B), 'O' : len(Total_O), 'AB' : len(Total_AB)}\n",
    "print(Total)\n",
    "        "
   ]
  }
 ],
 "metadata": {
  "kernelspec": {
   "display_name": "Python 3",
   "language": "python",
   "name": "python3"
  },
  "language_info": {
   "codemirror_mode": {
    "name": "ipython",
    "version": 3
   },
   "file_extension": ".py",
   "mimetype": "text/x-python",
   "name": "python",
   "nbconvert_exporter": "python",
   "pygments_lexer": "ipython3",
   "version": "3.6.7"
  }
 },
 "nbformat": 4,
 "nbformat_minor": 2
}
