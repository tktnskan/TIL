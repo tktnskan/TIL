{
 "cells": [
  {
   "cell_type": "markdown",
   "metadata": {},
   "source": [
    "# Problem Set"
   ]
  },
  {
   "cell_type": "markdown",
   "metadata": {},
   "source": [
    "**190108**"
   ]
  },
  {
   "cell_type": "markdown",
   "metadata": {},
   "source": [
    "### 1. 이상한 덧셈\n",
    "> 숫자로 구성된 리스트에서 양의 정수의 합을 구하는 함수, `positive_sum` 을 만들어 보아요\n",
    "\n",
    "예시) \n",
    "``` python\n",
    "positive_sum([1, -10, 2]) # 3\n",
    "positive_sum([-1, -2, -3, -4])  # 0\n",
    "```"
   ]
  },
  {
   "cell_type": "code",
   "execution_count": null,
   "metadata": {},
   "outputs": [],
   "source": [
    "def positive_sum(n):\n",
    "    sum_p = []\n",
    "    for i in n:\n",
    "        if i >= 0:\n",
    "            sum_p.append(i)\n",
    "    return sum(sum_p)\n",
    "\n",
    "\n",
    "positive_sum([1, -10, 2])\n",
    "positive_sum([-1, -2, -3, -4])\n"
   ]
  },
  {
   "cell_type": "code",
   "execution_count": null,
   "metadata": {},
   "outputs": [],
   "source": [
    "def positive_sum(numbers):\n",
    "    total = 0\n",
    "    for number in numbers:\n",
    "        if number > 0:\n",
    "            total += number\n",
    "    return total\n",
    "\n",
    "def pos_sum(numbers):\n",
    "    return sum(x for x in numbers if x >0)\n",
    "\n",
    "print(positive_sum([1, -10, 2]))\n",
    "print(positive_sum([-1, -2, -3, -4]))\n",
    "print(pos_sum([1, -10, 2]))\n",
    "print(pos_sum([-1, -2, -3, -4]))"
   ]
  },
  {
   "cell_type": "markdown",
   "metadata": {},
   "source": [
    "### 2. 문자열 탐색\n",
    ">문자열 요소로만 이루어진 리스트를 넣었을 때, 문자열의 길이가 2 이상이고 주어진 문자열의 첫 번째와 마지막 문자가 같은 문자열의 수를 세는 함수 'start_end' 를 작성하세요\n",
    "\n",
    "예시)\n",
    "``` python\n",
    "start_end(['level', 'asdwe', 's', 'abadsfa', 'qlq'])  # 3\n",
    "```"
   ]
  },
  {
   "cell_type": "code",
   "execution_count": null,
   "metadata": {},
   "outputs": [],
   "source": [
    "def start_end(n):\n",
    "    count = 0\n",
    "    for i in n:\n",
    "        if len(i) >= 2 and i[0] == i[-1]:\n",
    "            count += 1\n",
    "    return count\n",
    "\n",
    "start_end(['level', 'asdwe', 's', 'abadsfa', 'qlq'])\n",
    "\n",
    "\n",
    "\n"
   ]
  },
  {
   "cell_type": "code",
   "execution_count": null,
   "metadata": {},
   "outputs": [],
   "source": [
    "def start_end(words):\n",
    "    count = 0\n",
    "    for word in words:\n",
    "        if len(word) > 1 and word[0] == word [-1]:\n",
    "            count += 1\n",
    "    return count\n",
    "\n",
    "print(start_end(['level', 'asdwe', 's', 'abadsfa', 'qlq']))"
   ]
  },
  {
   "cell_type": "markdown",
   "metadata": {},
   "source": [
    "### 3. Collatz\n",
    "> collatz 추측: 어떤 자연수 n 이던지, 다음과 같은 작업을 반복하면 1로 만들수 있다\n",
    "\n",
    "1. n이 짝수라면 2로 나눈다.\n",
    "2. n이 홀수라면 3을 곱하고 1을 더한다.\n",
    "3. 결과로 나온 수에 1/2의 작업을 1이 될때까지 반복한다.\n",
    "\n",
    "> 예를 들어 n이 6이면, 6 => 3 => 10 => 5 => 16 => 8 => 4 => 2 => 1 이 되며 8번( =>의 갯수!)만에 1이 됩니다.자연수 n이 들어왔을때, 몇번의 작업만에 1이 디는지를 'return' 하는 함수 'collatz()' 를 완성하세요.\n",
    "\n",
    "> 단, 500번을 넘어가도 1이 되지 않는다면 -1을 'return' 할세요!\n",
    "\n",
    "예시)\n",
    "```python\n",
    "collatz(6) # 8\n",
    "collatz(16) # 4\n",
    "collatz(6263313) # -1\n",
    "```"
   ]
  },
  {
   "cell_type": "code",
   "execution_count": null,
   "metadata": {},
   "outputs": [],
   "source": [
    "def collatz(n):\n",
    "    count = 0\n",
    "    while n > 1 and count < 500:\n",
    "        if n % 2 == 0:\n",
    "            n = n/2\n",
    "            count += 1\n",
    "        else:\n",
    "            n = (n * 3) + 1\n",
    "            count += 1\n",
    "    if count == 500:\n",
    "        count = -1 \n",
    "    return count\n",
    "\n",
    "collatz(62633)\n",
    "        "
   ]
  },
  {
   "cell_type": "code",
   "execution_count": null,
   "metadata": {},
   "outputs": [],
   "source": [
    "def collatz(num):\n",
    "    for i in range(500):\n",
    "        if num % 2:\n",
    "            num = num * 3 + 1\n",
    "        else:\n",
    "            num = num / 2\n",
    "# num = num * 3 + 1 if num % 2 else num /2             \n",
    "        if num == 1:\n",
    "            return i + 1\n",
    "    return -1 \n",
    "collatz(626312451029750823178069237068972398057239857239857239782531)"
   ]
  },
  {
   "cell_type": "markdown",
   "metadata": {},
   "source": [
    "### 4. 솔로 천국\n",
    "> 리스트가 주어질때, 리스트의 요소 `e`는 `range(0,10)`에 포함되는 자연수이다. 리스트에서 연속적으로 나타나는 숫자는 하나만 남기고 전부 제거하여 `return` 하는 함수 `lonely()`를 작성해 보세요. 이때! 제거된 후 남은 수들을 반환할 때는 리스트의 요소들이 순서를 유지해야 합니다!\n",
    "\n",
    "예시)\n",
    "```python\n",
    "lonely([1, 1, 3, 3, 0, 1, 1, 3, 0 ,3]) # [1, 3 ,0]\n",
    "lonely([4, 4, 3, 3, 3, 4]) # [4, 3]\n",
    "```\n",
    "\n",
    "{ 'key1' : 'value', 'key2' : 'value2' }"
   ]
  },
  {
   "cell_type": "code",
   "execution_count": null,
   "metadata": {},
   "outputs": [],
   "source": [
    "def lonely(numbers):\n",
    "    result = []\n",
    "    for number in numbers:\n",
    "        if not result:\n",
    "            result.append(number)\n",
    "        elif result[-1] != number:\n",
    "            if result.count(number) ==0:\n",
    "                result.append(number)\n",
    "    return result\n",
    "\n",
    "def lonely2(numbers):\n",
    "    result = []\n",
    "    for number in numbers:\n",
    "        if number not in result:\n",
    "            result.append(number)\n",
    "    return result\n",
    "\n",
    "def lonely3(numbers):\n",
    "    result = []\n",
    "    for number in numbers:\n",
    "        if not result or (result[-1] != number and result.count(number) == 0):\n",
    "            result.append(number)\n",
    "    return result\n",
    "\n",
    "\n",
    "print(lonely([1, 1, 3, 3, 0, 1, 1, 3, 0 ,3]))\n",
    "print(lonely([4, 4, 3, 3, 3, 4]))\n",
    "print(lonely1([1, 1, 3, 3, 0, 1, 1, 3, 0 ,3]))\n",
    "print(lonely1([4, 4, 3, 3, 3, 4]))"
   ]
  },
  {
   "cell_type": "markdown",
   "metadata": {},
   "source": [
    "### 5. *RGB 삼각형\n",
    "\n",
    "| BG   | RG   | BR   | RR   | GG   | BB   |\n",
    "| ---- | ---- | ---- | ---- | ---- | ---- |\n",
    "| R    | B    | G    | R    | G    | B    |\n",
    "\n",
    "> 입력으로 `'R', 'G', 'B'`가 섞여있는 문자열이 들어온다. 문자열은 다음과 같이 합쳐진다. 해당 문자열을 처리하여 마지막 색깔만 `return` 하는 `triangle()`을 작성하세요\n",
    "\n",
    "```\n",
    "R R G B R G B B\n",
    " R B R G B R B\n",
    "  G G B R G G\n",
    "   G R G B G\n",
    "    B B R R\n",
    "     B G R\n",
    "      R B\n",
    "       G\n",
    "```\n",
    "예시)\n",
    "```python\n",
    "triangle('RRGBRGBB') # G\n",
    "triangle('GB') # R\n",
    "triangle('B') # B\n",
    "triangle('RGBG') # B\n",
    "```"
   ]
  },
  {
   "cell_type": "code",
   "execution_count": null,
   "metadata": {},
   "outputs": [],
   "source": [
    "def triangle(RGB):\n",
    "    if len(RGB) <= 1:\n",
    "        return RGB\n",
    "    else:\n",
    "        RGB1 = []\n",
    "        for i in range(len(RGB)):\n",
    "            if RGB[i:i+2] == 'BG':\n",
    "                RGB1 = RGB1.append('R')\n",
    "            elif RGB[i:i+2] == 'RG':\n",
    "                RGB1 = RGB1.append('B')\n",
    "            elif RGB[i:i+2] == 'BR':\n",
    "                RGB1 = RGB1.append('G')\n",
    "            elif RGB[i:i+2] == 'RR':\n",
    "                RGB1 = RGB1.append('R')\n",
    "            elif RGB[i:i+2] == 'GG':\n",
    "                RGB1 = RGB1.append('G')\n",
    "            elif RGB[i:i+2] == 'BB':\n",
    "                RGB1 = RGB1.append('B')\n",
    "        return triangle(RGB1)\n",
    "\n",
    "triangle('RRGBRGBB')"
   ]
  },
  {
   "cell_type": "code",
   "execution_count": null,
   "metadata": {},
   "outputs": [],
   "source": [
    "def permutations(s):\n",
    "    if len(s) <= 1:\n",
    "        return [s]\n",
    "    else:\n",
    "        perms = []\n",
    "        for e in permutations(s[:-1]):\n",
    "            for i in xrange(len(e)+1):\n",
    "                perms.append(e[:i] + s[-1] + e[i:])\n",
    "        return perms\n",
    "permutations('adasgaadbv')"
   ]
  },
  {
   "cell_type": "markdown",
   "metadata": {},
   "source": [
    "### 6. (??) 홀수개를 찾아라\n",
    "> 입력으로 list가 한개 들어옵니다. 이 list에는 1개의 숫자만 홀수개 들어있습니다.\n",
    "이 1개의 홀수개인 숫자를 `return`하는 `find_odd()`를 작성하세요.\n",
    "\n",
    "예시)\n",
    "```\n",
    "find_odd([1, 1, 2, 2, 3, 3, 3])  # 3\n",
    "find_odd([2, 1, 2])  # 1\n",
    "find_odd([1, 2, 2, 3, 2, 2, 1])  # 3\n",
    "```"
   ]
  },
  {
   "cell_type": "code",
   "execution_count": null,
   "metadata": {},
   "outputs": [],
   "source": [
    "def find_odd_1(numbers):\n",
    "    for uniq in list(set(numbers)):\n",
    "        if numbers.count(uniq) % 2:\n",
    "            return uniq\n",
    "        \n",
    "def find_odd_2(numbers):\n",
    "    result = 0\n",
    "    for n in numbers:\n",
    "        result = result ^ n\n",
    "        return result\n",
    "    \n",
    "def find_odd_3(numbers):\n",
    "    return reduce(xor, numbers)\n",
    "\n",
    "find_odd_1([1, 1, 2, 2, 3, 3, 3])\n",
    "# find_odd_2([1, 1, 2, 2, 3, 3, 3])\n",
    "# find_odd_3([1, 1, 2, 2, 3, 3, 3])"
   ]
  },
  {
   "cell_type": "markdown",
   "metadata": {},
   "source": [
    "**190109**"
   ]
  },
  {
   "cell_type": "markdown",
   "metadata": {},
   "source": [
    "### 1. UP & DOWN\n",
    "> 우리가 `range(1,101)` 중 하나를 생각한다. 컴퓨터가 절반에 위치한 숫자를 물어보고, 생각한 수보다 크면 1, 작으면 -1, 맞으면 0 을 입력한다. 이때, 몇번만에 컴퓨터가 맞췄는지 출력하고 프로그램을 끝낸다.\n",
    "\n",
    "예시)\n",
    "```sh\n",
    "숫자를 생각하세요..\n",
    "50\n",
    "> -1\n",
    "25\n",
    "> -1\n",
    "13\n",
    "> -1\n",
    "7\n",
    "> 1\n",
    "10\n",
    "> 1\n",
    "12\n",
    "> 0\n",
    "6 번만에 맞혀습니다!\n",
    "```\n",
    "\n",
    "```python\n",
    "def guess_up_down():\n",
    "    print('숫자를 생각하세요...')\n",
    "    n = 100 // 2\n",
    "    print(n)\n",
    "    count += 1 \n",
    "    user_feedback = input('작으면 -1, 맞으면 0, 크면 1: ')\n",
    "    ...\n",
    "    print(f'{count} 번만에 맞춤!')\n",
    "   \n",
    "\n",
    "guess_up_down()\n",
    "```"
   ]
  },
  {
   "cell_type": "code",
   "execution_count": null,
   "metadata": {},
   "outputs": [],
   "source": [
    "def guess_up_down():\n",
    "    count = 0 \n",
    "    max_n, min_n = 100, 0\n",
    "    print('숫자를 생각하세요..')\n",
    "    \n",
    "    while True:\n",
    "        guess = (max_n + min_n) // 2\n",
    "        print(guess)\n",
    "        count += 1\n",
    "        feedback = int(input('작으면 -1, 크면 1, 맞으면 0 : '))\n",
    "        \n",
    "        if feedback == -1:\n",
    "            max_n = guess\n",
    "        elif feedback == 1:\n",
    "            min_n = guess\n",
    "        else:\n",
    "            return count\n",
    "        \n",
    "guess_up_down()\n"
   ]
  },
  {
   "cell_type": "code",
   "execution_count": null,
   "metadata": {},
   "outputs": [],
   "source": [
    "def guess_up_down(minimum, maximum, choice_number, count):\n",
    "    num = (minimum + maximum + 1) // 2\n",
    "    print(f'혹시 당신이 생각한 숫자가 {num} 입니까?')\n",
    "    user_feedback=int(input('작으면 -1, 크면 1, 맞으면 0을 입력: '))\n",
    "    \n",
    "    if user_feedback == 0:\n",
    "        return(f'컴퓨터가 {count}번 만에 당신의 숫자를 찾음')\n",
    "    if user_feedback == -1:\n",
    "        maximum = num\n",
    "        count += 1\n",
    "        return guess_up_down(minimum, maximum, choice_number, count)\n",
    "    elif user_feedback == 1:\n",
    "        minimum = num\n",
    "        count += 1\n",
    "        return guess_up_down(minimum, maximum, choice_number, count)\n",
    "    \n",
    "\n",
    "guess_up_down(int(input('최저숫자 입력: ')), int(input('최고숫자 입력: ')), int(input('내가 정한 숫자 입력: ')), 1)\n",
    "        "
   ]
  },
  {
   "cell_type": "code",
   "execution_count": null,
   "metadata": {},
   "outputs": [],
   "source": [
    "def get_square_root(x, y, count):\n",
    "    if abs(y - x**2) <= 0.00000001:\n",
    "        return x, count\n",
    "    else:\n",
    "        x = (x + (y / x)) / 2\n",
    "        print(x , y)\n",
    "        count += 1\n",
    "    return get_square_root(x, y, count)\n",
    "\n",
    "get_square_root(2, 3, 1)"
   ]
  },
  {
   "cell_type": "code",
   "execution_count": null,
   "metadata": {},
   "outputs": [],
   "source": [
    "def my_sqrt(n):\n",
    "    return round(n ** 0.5, 4)\n",
    "\n",
    "my_sqrt(2)"
   ]
  },
  {
   "cell_type": "code",
   "execution_count": null,
   "metadata": {},
   "outputs": [],
   "source": [
    "def sqr(number, a, b, count):\n",
    "    if a == 0:\n",
    "        while a**2 < number:\n",
    "            a += 1\n",
    "            b = a - 1\n",
    "    if number == a**2:\n",
    "        return (f'{count}번 돌려서 나온 {number}의 근사제곱근은 {a}')\n",
    "\n",
    "    if round(b,3) == round(a,3):\n",
    "        est_a = round(a,3)\n",
    "        return (f'{count}번 돌려서 나온 {number}의 근사제곱근은 {est_a}')\n",
    "        \n",
    "    if (a**2 + b**2)/2 > number:\n",
    "        a = (a + b)/2\n",
    "        count += 1\n",
    "        return sqr(number, a, b, count)\n",
    "    elif (a**2 + b**2)/2 < number:\n",
    "        b = (a + b)/2\n",
    "        count += 1\n",
    "        return sqr(number, a, b, count)\n",
    "        \n",
    "sqr(4,0,0,1)"
   ]
  },
  {
   "cell_type": "code",
   "execution_count": null,
   "metadata": {
    "scrolled": true
   },
   "outputs": [],
   "source": [
    "def my_sqrt(n):\n",
    "    minimum, maximum = 1, 2\n",
    "    while 1:\n",
    "        if n == maximum ** 2:\n",
    "            return maximum\n",
    "        \n",
    "        elif minimum ** 2 < n < maximum ** 2:\n",
    "            guess = (minimum + maximum) /2\n",
    "            \n",
    "            if round(minimum, 5) == round(maximum, 5):\n",
    "                return round(guess, 5)\n",
    "            elif guess ** 2 > n:\n",
    "                maximum = guess\n",
    "            else:\n",
    "                minimum = guess\n",
    "        else:\n",
    "            maximum += 1\n",
    "            minimum += 1\n",
    "                \n",
    "my_sqrt(100)"
   ]
  },
  {
   "cell_type": "markdown",
   "metadata": {},
   "source": [
    "**190110**"
   ]
  },
  {
   "cell_type": "markdown",
   "metadata": {},
   "source": [
    "### Hangman\n",
    "> 필요한 함수들"
   ]
  },
  {
   "cell_type": "code",
   "execution_count": 2,
   "metadata": {},
   "outputs": [
    {
     "data": {
      "text/plain": [
       "False"
      ]
     },
     "execution_count": 2,
     "metadata": {},
     "output_type": "execute_result"
    }
   ],
   "source": [
    "def is_answer(answer, letters):\n",
    "    answer = set(answer)\n",
    "    count = 0\n",
    "    for char in set(letters):\n",
    "        if char in answer:\n",
    "            count += 1\n",
    "    return len(answer) == count\n",
    "    \n",
    "is_answer('apple', ['a', 'p', 'l', ]) # False"
   ]
  },
  {
   "cell_type": "code",
   "execution_count": 3,
   "metadata": {},
   "outputs": [
    {
     "data": {
      "text/plain": [
       "'a**l*'"
      ]
     },
     "execution_count": 3,
     "metadata": {},
     "output_type": "execute_result"
    }
   ],
   "source": [
    "def status(answer, letters):\n",
    "    for char in answer:\n",
    "        if char not in letters:\n",
    "            answer = answer.replace(char, '*')\n",
    "    return answer\n",
    "            \n",
    "status('apple', ['a', 'l'])"
   ]
  },
  {
   "cell_type": "markdown",
   "metadata": {},
   "source": [
    "#### Hangman 로직만들기\n",
    "> 위의 코드를 활용하여, `hangman(answer)`를 만들어보자!\n",
    "> 사용자가 답을 맞추거나, 시도가 8번을 넘어가면 종료!"
   ]
  },
  {
   "cell_type": "code",
   "execution_count": 8,
   "metadata": {},
   "outputs": [
    {
     "name": "stdout",
     "output_type": "stream",
     "text": [
      "===START===\n",
      "남은 목숨: ♥♥♥♥♥♥♥♥\n",
      "*****\n",
      "알파벳을 입력하세요: b\n",
      "남은 목숨: ♥♥♥♥♥♥♥\n",
      "*****\n",
      "알파벳을 입력하세요: a\n",
      "남은 목숨: ♥♥♥♥♥♥♥\n",
      "a****\n",
      "알파벳을 입력하세요: p\n",
      "남은 목숨: ♥♥♥♥♥♥♥\n",
      "app**\n",
      "알파벳을 입력하세요: t\n",
      "남은 목숨: ♥♥♥♥♥♥\n",
      "app**\n",
      "알파벳을 입력하세요: l\n",
      "남은 목숨: ♥♥♥♥♥♥\n",
      "appl*\n",
      "알파벳을 입력하세요: a\n",
      "남은 목숨: ♥♥♥♥♥♥\n",
      "appl*\n",
      "알파벳을 입력하세요: p\n",
      "남은 목숨: ♥♥♥♥♥♥\n",
      "appl*\n",
      "알파벳을 입력하세요: w\n",
      "남은 목숨: ♥♥♥♥♥\n",
      "appl*\n",
      "알파벳을 입력하세요: q\n",
      "남은 목숨: ♥♥♥♥\n",
      "appl*\n",
      "알파벳을 입력하세요: t\n",
      "남은 목숨: ♥♥♥\n",
      "appl*\n",
      "알파벳을 입력하세요: m\n",
      "남은 목숨: ♥♥\n",
      "appl*\n",
      "알파벳을 입력하세요: n\n",
      "남은 목숨: ♥\n",
      "appl*\n",
      "알파벳을 입력하세요: c\n"
     ]
    },
    {
     "data": {
      "text/plain": [
       "'실패!'"
      ]
     },
     "execution_count": 8,
     "metadata": {},
     "output_type": "execute_result"
    }
   ],
   "source": [
    "def hangman(answer):\n",
    "    input_letters = []\n",
    "    answer_element = []\n",
    "    for i in answer:\n",
    "        answer_element.append(i)\n",
    "    attempt = 8\n",
    "    print('===START===')\n",
    "    while answer != input_letters:\n",
    "        print(\"남은 목숨: \" + '♥' * attempt)\n",
    "        print(status(answer, input_letters))\n",
    "        \n",
    "        guess = input('알파벳을 입력하세요: ').lower()\n",
    "        input_letters.append(guess)\n",
    "        \n",
    "        # some code\n",
    "        \n",
    "        if is_answer(answer, input_letters):\n",
    "            return '성공!'\n",
    "        else:\n",
    "            if guess not in answer_element:\n",
    "                attempt -= 1\n",
    "            else:\n",
    "                attempt =attempt\n",
    "\n",
    "\n",
    "\n",
    "        if not attempt:\n",
    "            return '실패!'\n",
    "\n",
    "hangman('apple')\n"
   ]
  },
  {
   "cell_type": "code",
   "execution_count": null,
   "metadata": {},
   "outputs": [],
   "source": [
    "def hangman(answer,count):\n",
    "    letter = 'apple'\n",
    "    if answer == 'start':\n",
    "        a = len(letter)\n",
    "        answer = input(f'글자의 길이는 {a}입니다. 답을 입력하세요: ')\n",
    "        \n",
    "        if count > 10:\n",
    "            print('안타깝습니다.. 당신이 행맨을 죽였군요..')\n",
    "    \n",
    "        else:\n",
    "            if answer == letter:\n",
    "                print(f'{count}번 만에 성공!')\n",
    "    \n",
    "            if answer != letter:\n",
    "                for i in range(len(answer)):\n",
    "                    for j in range(len(letter)):\n",
    "                        if i == j:\n",
    "                            if answer[i] == letter [j]:\n",
    "                                answer.replace\n",
    "                    if char not in letter:\n",
    "                        answer = answer.replace(char, '*')\n",
    "                print(f'{10-count}번 기회가 남았습니다. {answer}')\n",
    "                count += 1\n",
    "                feedback = input('단어를 다시 입력하세요!: ')\n",
    "            return hangman(feedback)\n",
    "\n",
    "hangman('start',1)\n",
    "\n"
   ]
  },
  {
   "cell_type": "code",
   "execution_count": 10,
   "metadata": {},
   "outputs": [
    {
     "name": "stdout",
     "output_type": "stream",
     "text": [
      "w\n"
     ]
    }
   ],
   "source": [
    "a = 'qwrrwq'\n",
    "print(a[1])"
   ]
  },
  {
   "cell_type": "code",
   "execution_count": null,
   "metadata": {},
   "outputs": [
    {
     "name": "stdout",
     "output_type": "stream",
     "text": [
      "글자의 길이는 5입니다. 문자 하나를 입력하세요: wqrir\n",
      "일치하는 문자가 하나도 없습니다. wqrir\n",
      "9번 기회가 남았습니다.\n",
      "단어를 다시 입력하세요!: qwirp\n",
      "일치하는 문자가 하나도 없습니다. qwirp\n",
      "9번 기회가 남았습니다.\n"
     ]
    }
   ],
   "source": [
    "def hangman(answer):\n",
    "    letter = 'apple'\n",
    "    letter_element = []\n",
    "    for i in letter:\n",
    "        letter_element.append(i)\n",
    "    \n",
    "    count = 1\n",
    "    \n",
    "    if answer != letter:\n",
    "        if answer == 'start':\n",
    "            a = len(letter)\n",
    "            answer = input(f'글자의 길이는 {a}입니다. 문자 하나를 입력하세요: ')\n",
    "            return hangman(answer)\n",
    "        else:\n",
    "            if count > 10:\n",
    "                print('안타깝습니다.. 당신이 행맨을 죽였군요..')\n",
    "    \n",
    "            else:\n",
    "                if answer == letter:\n",
    "                    print(f'{count}번 만에 성공!')\n",
    "    \n",
    "                if answer != letter:\n",
    "                    if str_int(answer, letter) == 'no':\n",
    "                        print(f'일치하는 문자가 하나도 없습니다. {answer}\\n{10-count}번 기회가 남았습니다.')\n",
    "                        count += 1\n",
    "                        feedback = input('단어를 다시 입력하세요!: ')\n",
    "                    else:\n",
    "                        for char in letter:\n",
    "                            if char not in answer:\n",
    "                                answer = answer.replace(char, '*')\n",
    "                        return answer\n",
    "                        print(f'{10-count}번 기회가 남았습니다. {answer}')\n",
    "                        count += 1\n",
    "                        feedback = input('단어를 다시 입력하세요!: ')\n",
    "                return hangman(feedback)\n",
    "\n",
    "    else:\n",
    "        print(f'\\n{count}번 만에 성공!\\n게임이 끝났습니다..')\n",
    "\n",
    "hangman('start')"
   ]
  },
  {
   "cell_type": "code",
   "execution_count": null,
   "metadata": {},
   "outputs": [],
   "source": [
    "def str_int(s1, s2):\n",
    "    for i in range(len(s1)):\n",
    "        for j in range(len(s2)):\n",
    "            if i == j:\n",
    "                if s1[i] == s2[j]:\n",
    "                    return 'yes'\n",
    "                else:\n",
    "                    return 'no'\n",
    "                \n",
    "str_int('sds','ssr')\n"
   ]
  },
  {
   "cell_type": "code",
   "execution_count": null,
   "metadata": {},
   "outputs": [],
   "source": [
    "letter = 'apple'\n",
    "a = []\n",
    "for i in letter:\n",
    "    a.append(i)\n",
    "print(a)\n",
    "\n",
    "def status(answer, letters):\n",
    "    for char in answer:\n",
    "        if char not in letters:\n",
    "            answer = answer.replace(char, '*')\n",
    "    return answer\n",
    "            \n",
    "status('apple', ['a', 'p'])"
   ]
  },
  {
   "cell_type": "code",
   "execution_count": 10,
   "metadata": {
    "scrolled": true
   },
   "outputs": [
    {
     "name": "stdout",
     "output_type": "stream",
     "text": [
      "글자의 길이는 5입니다. 답을 입력하세요: eriei\n",
      "일치하는 문자가 하나도 없습니다. eriei\n",
      "9번 기회가 남았습니다.\n",
      "단어를 다시 입력하세요!: aeieo\n"
     ]
    },
    {
     "data": {
      "text/plain": [
       "'ae*e*'"
      ]
     },
     "execution_count": 10,
     "metadata": {},
     "output_type": "execute_result"
    }
   ],
   "source": [
    "def hangman(answer):\n",
    "    letter = 'apple'\n",
    "    letter_element = []\n",
    "    for i in letter:\n",
    "        letter_element.append(i)\n",
    "    \n",
    "    count = 1\n",
    "    if answer != letter:\n",
    "        if answer == 'start':\n",
    "            a = len(letter)\n",
    "            answer = input(f'글자의 길이는 {a}입니다. 답을 입력하세요: ')\n",
    "            return hangman(answer)\n",
    "        else:\n",
    "            if count > 10:\n",
    "                print('안타깝습니다.. 당신이 행맨을 죽였군요..')\n",
    "    \n",
    "            else:\n",
    "                if answer == letter:\n",
    "                    print(f'{count}번 만에 성공!')\n",
    "    \n",
    "                if answer != letter:\n",
    "                    if str_int(answer, letter) == 'no':\n",
    "                        print(f'일치하는 문자가 하나도 없습니다. {answer}\\n{10-count}번 기회가 남았습니다.')\n",
    "                        count += 1\n",
    "                    else:\n",
    "                        for char in answer:\n",
    "                            if char not in letter_element:\n",
    "                                answer = answer.replace(char, '*')\n",
    "                        return answer\n",
    "                        print(f'{10-count}번 기회가 남았습니다. {answer}')\n",
    "                        count += 1\n",
    "                    feedback = input('단어를 다시 입력하세요!: ')\n",
    "                    return hangman(feedback)\n",
    "                \n",
    "    else:\n",
    "        print(f'\\n{count}번 만에 성공!\\n게임이 끝났습니다..')\n",
    "\n",
    "hangman('start')"
   ]
  }
 ],
 "metadata": {
  "kernelspec": {
   "display_name": "Python 3",
   "language": "python",
   "name": "python3"
  },
  "language_info": {
   "codemirror_mode": {
    "name": "ipython",
    "version": 3
   },
   "file_extension": ".py",
   "mimetype": "text/x-python",
   "name": "python",
   "nbconvert_exporter": "python",
   "pygments_lexer": "ipython3",
   "version": "3.6.7"
  }
 },
 "nbformat": 4,
 "nbformat_minor": 2
}
