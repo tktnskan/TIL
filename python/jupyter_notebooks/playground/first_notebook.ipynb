{
 "cells": [
  {
   "cell_type": "code",
   "execution_count": 11,
   "metadata": {},
   "outputs": [
    {
     "name": "stdout",
     "output_type": "stream",
     "text": [
      "첫번째숫자 입력: 245232\n",
      "두번째숫자 입력: 12\n",
      "공약수는 [1, 2, 3, 4, 6, 12]\n",
      "245232과12의 최대공약수는 12\n",
      "245232과12의 최소공배수는 245232\n"
     ]
    }
   ],
   "source": [
    "num1 = int(input('첫번째숫자 입력: '))\n",
    "num2 = int(input('두번째숫자 입력: '))\n",
    "\n",
    "\n",
    "numbers= [num1] + [num2]\n",
    "min_numbers = min(numbers)\n",
    "\n",
    "\n",
    "n = 1\n",
    "cd = []\n",
    "\n",
    "while n<=min_numbers:\n",
    "    if num1 % n == 0 and num2 % n == 0:\n",
    "        cd.append(n) \n",
    "        n = n + 1\n",
    "    else:\n",
    "        n = n + 1\n",
    "        \n",
    "print('공약수는',cd)\n",
    "\n",
    "gcd = max(cd)\n",
    "lcm = num1*num2//gcd\n",
    "\n",
    "print(str(num1) + '과' + str(num2) + '의 최대공약수는 ' + str(gcd))\n",
    "print(str(num1) + '과' + str(num2) + '의 최소공배수는 ' + str(lcm))\n",
    "\n",
    "\n"
   ]
  }
 ],
 "metadata": {
  "kernelspec": {
   "display_name": "Python 3",
   "language": "python",
   "name": "python3"
  }
 },
 "nbformat": 4,
 "nbformat_minor": 2
}
