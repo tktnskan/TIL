{
 "cells": [
  {
   "cell_type": "code",
   "execution_count": 1,
   "metadata": {},
   "outputs": [
    {
     "ename": "SyntaxError",
     "evalue": "invalid syntax (<ipython-input-1-00f9ae63a5f2>, line 2)",
     "output_type": "error",
     "traceback": [
      "\u001b[1;36m  File \u001b[1;32m\"<ipython-input-1-00f9ae63a5f2>\"\u001b[1;36m, line \u001b[1;32m2\u001b[0m\n\u001b[1;33m    if len(names) == 1;\u001b[0m\n\u001b[1;37m                      ^\u001b[0m\n\u001b[1;31mSyntaxError\u001b[0m\u001b[1;31m:\u001b[0m invalid syntax\n"
     ]
    }
   ],
   "source": [
    "def namelist(names):   \n",
    "    if len(names) == 1;\n",
    "    return name[0]['name']\n",
    "    \n",
    "    elif len(names) == 2;\n",
    "    return name\n",
    "\n",
    "namelist([ {'name': 'Bart'} ])\n"
   ]
  },
  {
   "cell_type": "code",
   "execution_count": 30,
   "metadata": {},
   "outputs": [
    {
     "data": {
      "text/plain": [
       "['ji', 'Bart', 'Lisa & Maggie']"
      ]
     },
     "execution_count": 30,
     "metadata": {},
     "output_type": "execute_result"
    }
   ],
   "source": [
    "\n",
    "def namelist(names):   \n",
    "    a = []\n",
    "    if len(names)==0:\n",
    "        return ''\n",
    "    elif len(names)==1:\n",
    "        return f'{names[0][\"name\"]}'\n",
    "    elif len(names)==2:\n",
    "        return f'{names[-2][\"name\"]} & {names[-1][\"name\"]}'\n",
    "        \n",
    "    else:\n",
    "        for i in range(len(names)-2):\n",
    "            a.append(names[i]['name'])\n",
    "        a.append(f'{names[-2][\"name\"]} & {names[-1][\"name\"]}')\n",
    "        return a\n",
    "         \n",
    "namelist([ {'name': 'ji'},{'name': 'Bart'}, {'name': 'Lisa'}, {'name': 'Maggie'} ])"
   ]
  },
  {
   "cell_type": "code",
   "execution_count": 88,
   "metadata": {
    "scrolled": true
   },
   "outputs": [
    {
     "data": {
      "text/plain": [
       "'20 8 5 19 21 14 19 5 20 19 5 20 19 1 20 20 23 5 12 22 5 15 3 12 15 3 11'"
      ]
     },
     "execution_count": 88,
     "metadata": {},
     "output_type": "execute_result"
    }
   ],
   "source": [
    "def alphabet_position(text):\n",
    "    alpha1 = ['a','b','c','d','e','f','g','h','i','j','k','l','m','n','o','p','q','r','s','t','u','v','w','x','y','z']\n",
    "    digit1 = [1,2,3,4,5,6,7,8,9,10,11,12,13,14,15,16,17,18,19,20,21,22,23,24,25,26]\n",
    "    count = 0\n",
    "    a=''\n",
    "    text = text.lower()\n",
    "    for i in text:\n",
    "        if i.isalpha():\n",
    "            a += str(digit1[alpha1.index(f'{i}')])+' '\n",
    "    return a.rstrip()\n",
    "                         \n",
    "alphabet_position(\"The sunset sets at twelve o' clock.\")\n"
   ]
  },
  {
   "cell_type": "code",
   "execution_count": 105,
   "metadata": {},
   "outputs": [
    {
     "name": "stdout",
     "output_type": "stream",
     "text": [
      "[1, 3, 5]\n"
     ]
    },
    {
     "data": {
      "text/plain": [
       "[1, 3, 2, 8, 5, 4]"
      ]
     },
     "execution_count": 105,
     "metadata": {},
     "output_type": "execute_result"
    }
   ],
   "source": [
    "def sort_array(source_array):\n",
    "    a=[]\n",
    "    b=[]\n",
    "    count = 0\n",
    "    for i in source_array:\n",
    "        if i%2:\n",
    "            a.append(i)\n",
    "    a.sort(reverse=False)\n",
    "    print(a)\n",
    "\n",
    "    for i in source_array:\n",
    "        if i%2:\n",
    "            b.append(a[count])\n",
    "            count += 1\n",
    "        else:\n",
    "            b.append(i)\n",
    "    \n",
    "    return b\n",
    "\n",
    "sort_array([5, 3, 2, 8, 1, 4])"
   ]
  },
  {
   "cell_type": "code",
   "execution_count": 117,
   "metadata": {},
   "outputs": [
    {
     "name": "stdout",
     "output_type": "stream",
     "text": [
      "1\n"
     ]
    },
    {
     "data": {
      "text/plain": [
       "'q'"
      ]
     },
     "execution_count": 117,
     "metadata": {},
     "output_type": "execute_result"
    }
   ],
   "source": [
    "def first_non_repeating_letter(string):\n",
    "    a=''\n",
    "    b=string.lower()\n",
    "    c=''\n",
    "    for i in b:\n",
    "        if i.isalpha() and i not in a:\n",
    "            a += i\n",
    "    \n",
    "    for j in a:\n",
    "        if b.count(j)==1:\n",
    "            c = b.index(j)\n",
    "            print(c)\n",
    "            break\n",
    "    return string[c]\n",
    "\n",
    "first_non_repeating_letter('wqTgasga sdwas')"
   ]
  },
  {
   "cell_type": "code",
   "execution_count": 182,
   "metadata": {},
   "outputs": [
    {
     "data": {
      "text/plain": [
       "''"
      ]
     },
     "execution_count": 182,
     "metadata": {},
     "output_type": "execute_result"
    }
   ],
   "source": [
    "def first_non_repeating_letter(string):\n",
    "    a=''\n",
    "    b=string.lower()\n",
    "    c=0\n",
    "    for i in b:\n",
    "        if i not in a:\n",
    "            a += i\n",
    "    for j in a:\n",
    "        if b.count(j)==1:\n",
    "            c = b.index(j)\n",
    "            return string[c]\n",
    "    return ''\n",
    "\n",
    "first_non_repeating_letter('')"
   ]
  },
  {
   "cell_type": "code",
   "execution_count": 151,
   "metadata": {},
   "outputs": [
    {
     "data": {
      "text/plain": [
       "2.0"
      ]
     },
     "execution_count": 151,
     "metadata": {},
     "output_type": "execute_result"
    }
   ],
   "source": [
    "https://movie.hphk.io/movies/"
   ]
  },
  {
   "cell_type": "code",
   "execution_count": 2,
   "metadata": {},
   "outputs": [
    {
     "data": {
      "text/plain": [
       "13"
      ]
     },
     "execution_count": 2,
     "metadata": {},
     "output_type": "execute_result"
    }
   ],
   "source": [
    "a=[]\n",
    "def zero(n=0):\n",
    "    a.append(0)\n",
    "    return calc(a)\n",
    "def one(n=1): \n",
    "    a.append(1)\n",
    "    return calc(a)\n",
    "def two(n=2): \n",
    "    a.append(2)\n",
    "    return calc(a)\n",
    "def three(n=3): \n",
    "    a.append(3)\n",
    "    return calc(a)\n",
    "def four(n=4): \n",
    "    a.append(4)\n",
    "    return calc(a)\n",
    "def five(n=5): \n",
    "    a.append(5)\n",
    "    return calc(a)\n",
    "def six(n=6):\n",
    "    a.append(6)\n",
    "    return calc(a)\n",
    "def seven(n=7):\n",
    "    a.append(7)\n",
    "    return calc(a)\n",
    "def eight(n=8):\n",
    "    a.append(8)\n",
    "    return calc(a)\n",
    "def nine(n=9): \n",
    "    a.append(9)\n",
    "    return calc(a)\n",
    "\n",
    "def plus(b):\n",
    "    return a.append('plus')\n",
    "def minus(b): \n",
    "    return a.append('minus')\n",
    "def times(b): \n",
    "    return a.append('times')\n",
    "def divided_by(b):\n",
    "    return a.append('divide')\n",
    "\n",
    "def calc(a):\n",
    "    if len(a)>=3:\n",
    "        if a[-2]=='plus':\n",
    "            return a[-3] + a[-1]\n",
    "        elif a[-2]=='minus':\n",
    "            return a[-1] - a[-3]\n",
    "        elif a[-2]=='times':\n",
    "            return a[-3] * a[-1]\n",
    "        elif a[-2]=='divide':\n",
    "            return a[-1] // a[-3]\n",
    "    else:\n",
    "        return a\n",
    "four(plus(nine()))"
   ]
  },
  {
   "cell_type": "code",
   "execution_count": 5,
   "metadata": {},
   "outputs": [
    {
     "data": {
      "text/plain": [
       "3"
      ]
     },
     "execution_count": 5,
     "metadata": {},
     "output_type": "execute_result"
    }
   ],
   "source": [
    "def find_outlier(integers):\n",
    "    odd=[]\n",
    "    even=[]\n",
    "    for i in integers:\n",
    "        if abs(i)%2:\n",
    "            odd.append(i)\n",
    "        else:\n",
    "            even.append(i)\n",
    "    if len(odd) == 1:\n",
    "        return odd[0]\n",
    "    elif len(even) == 1:\n",
    "        return even[0]\n",
    "            \n",
    "find_outlier([2, 4, 6, 8, 10, 3])"
   ]
  },
  {
   "cell_type": "code",
   "execution_count": 8,
   "metadata": {},
   "outputs": [
    {
     "data": {
      "text/plain": [
       "'10 + 2'"
      ]
     },
     "execution_count": 8,
     "metadata": {},
     "output_type": "execute_result"
    }
   ],
   "source": [
    "def expanded_form(num):\n",
    "    num_str = str(num)\n",
    "    len_num = len(num_str)\n",
    "    for i in range(len_num):\n",
    "        if i == 0:\n",
    "            return num\n",
    "        for ms\n",
    "        \n",
    "    if num//10:\n",
    "        a=num//10\n",
    "        b=num%10\n",
    "    return f'{a*10} + {b*1}'\n",
    "\n",
    "expanded_form(12)"
   ]
  },
  {
   "cell_type": "code",
   "execution_count": 67,
   "metadata": {},
   "outputs": [
    {
     "data": {
      "text/plain": [
       "'#CodewarsIsNice'"
      ]
     },
     "execution_count": 67,
     "metadata": {},
     "output_type": "execute_result"
    }
   ],
   "source": [
    "def generate_hashtag(s):\n",
    "    b=s.strip().lower()\n",
    "    c=0\n",
    "    d=[]\n",
    "    e='#'\n",
    "    if len(s) >140:\n",
    "        return False\n",
    "    else:\n",
    "        for i in b:\n",
    "            if i == ' ':\n",
    "                c+=1\n",
    "                d.append(c)\n",
    "            else:\n",
    "                c+=1\n",
    "        for j in range(len(b)):\n",
    "            if j==0:\n",
    "                e += b[j].upper()\n",
    "            elif j in d:\n",
    "                e += b[j].upper()\n",
    "            else:\n",
    "                e += b[j]\n",
    "        return e.replace(' ','')\n",
    "        \n",
    "    \n",
    "\n",
    "generate_hashtag('codeWars is nice')\n",
    "        "
   ]
  },
  {
   "cell_type": "code",
   "execution_count": 19,
   "metadata": {},
   "outputs": [
    {
     "name": "stdout",
     "output_type": "stream",
     "text": [
      "[1,[1,[1,1,]]\n"
     ]
    },
    {
     "data": {
      "text/plain": [
       "True"
      ]
     },
     "execution_count": 19,
     "metadata": {},
     "output_type": "execute_result"
    }
   ],
   "source": [
    "def same_structure_as(original,other):\n",
    "    original = dup(original, '')\n",
    "    print(original)\n",
    "    other = dup(other, '')\n",
    "    if original==other:\n",
    "        return True\n",
    "    else:\n",
    "        return False\n",
    "\n",
    "def dup(origin, origin_copy):\n",
    "    if type(origin)==list:\n",
    "        origin_copy += '['\n",
    "        for i in origin:\n",
    "            if type(i)==list:\n",
    "                origin_copy += dup(i, origin_copy)\n",
    "            else:\n",
    "                origin_copy += '1,'\n",
    "        origin_copy += ']'\n",
    "    return origin_copy\n",
    "\n",
    "same_structure_as([1,[1,1]],[2,[2,2]])"
   ]
  },
  {
   "cell_type": "code",
   "execution_count": 43,
   "metadata": {},
   "outputs": [
    {
     "data": {
      "text/plain": [
       "['carer', 'racer']"
      ]
     },
     "execution_count": 43,
     "metadata": {},
     "output_type": "execute_result"
    }
   ],
   "source": [
    "def anagrams(word, words):\n",
    "    word_sort = sorted(word)\n",
    "    words_sort = []\n",
    "    a=[]\n",
    "    for i in range(len(words)):\n",
    "        words_sort.append(sorted(words[i]))\n",
    "    for i in range(len(words)):\n",
    "        count=0\n",
    "        for j in range(len(word)):\n",
    "            if len(word)==len(words[i]):\n",
    "                if word_sort[j]==words_sort[i][j]:\n",
    "                    count += 1\n",
    "                if count == len(word):\n",
    "                    a.append(words[i])\n",
    "    return a\n",
    "anagrams('racer', ['crazer', 'carer', 'racar', 'caers', 'racer'])"
   ]
  },
  {
   "cell_type": "code",
   "execution_count": 11,
   "metadata": {
    "scrolled": true
   },
   "outputs": [
    {
     "data": {
      "text/plain": [
       "4523"
      ]
     },
     "execution_count": 11,
     "metadata": {},
     "output_type": "execute_result"
    }
   ],
   "source": [
    "def next_smaller(n):\n",
    "    n=str(n)\n",
    "    a=''\n",
    "    count = 0\n",
    "    if len(n) > 2:\n",
    "        for i in range(len(n)-2):\n",
    "            a += n[i]\n",
    "        if n[-1]>=max(n[:-1]):\n",
    "            for i in range(1,3):\n",
    "                    a += n[-i]\n",
    "            return int(a)  \n",
    "        else:\n",
    "            return -1\n",
    "            \n",
    "        \n",
    "    else:\n",
    "        if len(n)==1:\n",
    "            return -1\n",
    "        else:\n",
    "            if n[-1]>=max(n[:-1]):\n",
    "                for i in range(1,3):\n",
    "                    a += n[-i]\n",
    "                return int(a)  \n",
    "            else:\n",
    "                return -1\n",
    "next_smaller(4532)         "
   ]
  },
  {
   "cell_type": "code",
   "execution_count": 3,
   "metadata": {},
   "outputs": [
    {
     "data": {
      "text/plain": [
       "'3'"
      ]
     },
     "execution_count": 3,
     "metadata": {},
     "output_type": "execute_result"
    }
   ],
   "source": [
    "def next_smaller(n):\n",
    "    a=n.split()      "
   ]
  },
  {
   "cell_type": "code",
   "execution_count": 20,
   "metadata": {},
   "outputs": [
    {
     "data": {
      "text/plain": [
       "[2, 1]"
      ]
     },
     "execution_count": 20,
     "metadata": {},
     "output_type": "execute_result"
    }
   ],
   "source": [
    "n=213\n",
    "a=[]\n",
    "for i in str(n):\n",
    "    a.append(int(i))\n",
    "\n",
    "a[:-1]"
   ]
  },
  {
   "cell_type": "code",
   "execution_count": 13,
   "metadata": {},
   "outputs": [
    {
     "name": "stdout",
     "output_type": "stream",
     "text": [
      "apples, pears # and bananas\n",
      "grapes\n",
      "bananas !apples\n"
     ]
    },
    {
     "data": {
      "text/plain": [
       "'apples, pears\\n and bananas\\ngrapes\\nbananas\\napples'"
      ]
     },
     "execution_count": 13,
     "metadata": {},
     "output_type": "execute_result"
    }
   ],
   "source": [
    "# solution(\"apples, pears # and bananas\\ngrapes\\nbananas !apples\", [\"#\", \"!\"])\n",
    "\n",
    "a = \"apples, pears # and bananas\\ngrapes\\nbananas !apples\"\n",
    "a = a.split()\n",
    "print(a)\n",
    "c = ['#','!']\n",
    "b = ''\n",
    "for i in a:  \n",
    "    if i in c:\n",
    "        b = b.strip()\n",
    "        b += '\\n'\n",
    "    else:\n",
    "        b += i\n",
    "\n",
    "        \n",
    "\n",
    "b "
   ]
  },
  {
   "cell_type": "code",
   "execution_count": 25,
   "metadata": {},
   "outputs": [
    {
     "data": {
      "text/plain": [
       "'apples, pears\\ngrapes\\nbananas'"
      ]
     },
     "execution_count": 25,
     "metadata": {},
     "output_type": "execute_result"
    }
   ],
   "source": [
    "def solution(a, b):\n",
    "    for i in range(len(b)-1):\n",
    "        a = a.split(b[i])\n",
    "        c = a[1].index('\\n')\n",
    "        a[1] = a[1].replace(a[1][:c],'')\n",
    "        count = 0\n",
    "        for j in a:\n",
    "            a[count] = j.strip()\n",
    "            count += 1\n",
    "        a[0] +='\\n'\n",
    "        a = \"\".join(a)\n",
    "    a = a.split(b[-1])\n",
    "    a[0] = a[0].strip()\n",
    "    return a[0]\n",
    "\n",
    "solution(\"apples, pears # and bananas\\ngrapes\\navocado @apples\", [\"@\", \"!\"])"
   ]
  },
  {
   "cell_type": "code",
   "execution_count": 27,
   "metadata": {},
   "outputs": [
    {
     "name": "stdout",
     "output_type": "stream",
     "text": [
      "['\\n', '']\n"
     ]
    },
    {
     "ename": "ValueError",
     "evalue": "substring not found",
     "output_type": "error",
     "traceback": [
      "\u001b[1;31m---------------------------------------------------------------------------\u001b[0m",
      "\u001b[1;31mValueError\u001b[0m                                Traceback (most recent call last)",
      "\u001b[1;32m<ipython-input-27-58b4ec0dbf51>\u001b[0m in \u001b[0;36m<module>\u001b[1;34m\u001b[0m\n\u001b[0;32m      3\u001b[0m \u001b[0ma\u001b[0m \u001b[1;33m=\u001b[0m \u001b[0ma\u001b[0m\u001b[1;33m.\u001b[0m\u001b[0msplit\u001b[0m\u001b[1;33m(\u001b[0m\u001b[0mb\u001b[0m\u001b[1;33m[\u001b[0m\u001b[1;36m1\u001b[0m\u001b[1;33m]\u001b[0m\u001b[1;33m)\u001b[0m\u001b[1;33m\u001b[0m\u001b[1;33m\u001b[0m\u001b[0m\n\u001b[0;32m      4\u001b[0m \u001b[0mprint\u001b[0m\u001b[1;33m(\u001b[0m\u001b[0ma\u001b[0m\u001b[1;33m)\u001b[0m\u001b[1;33m\u001b[0m\u001b[1;33m\u001b[0m\u001b[0m\n\u001b[1;32m----> 5\u001b[1;33m \u001b[0mc\u001b[0m \u001b[1;33m=\u001b[0m \u001b[0ma\u001b[0m\u001b[1;33m[\u001b[0m\u001b[1;36m1\u001b[0m\u001b[1;33m]\u001b[0m\u001b[1;33m.\u001b[0m\u001b[0mindex\u001b[0m\u001b[1;33m(\u001b[0m\u001b[1;34m'\\n'\u001b[0m\u001b[1;33m)\u001b[0m\u001b[1;33m\u001b[0m\u001b[1;33m\u001b[0m\u001b[0m\n\u001b[0m\u001b[0;32m      6\u001b[0m \u001b[0ma\u001b[0m\u001b[1;33m[\u001b[0m\u001b[1;36m1\u001b[0m\u001b[1;33m]\u001b[0m \u001b[1;33m=\u001b[0m \u001b[0ma\u001b[0m\u001b[1;33m[\u001b[0m\u001b[1;36m1\u001b[0m\u001b[1;33m]\u001b[0m\u001b[1;33m.\u001b[0m\u001b[0mreplace\u001b[0m\u001b[1;33m(\u001b[0m\u001b[0ma\u001b[0m\u001b[1;33m[\u001b[0m\u001b[1;36m1\u001b[0m\u001b[1;33m]\u001b[0m\u001b[1;33m[\u001b[0m\u001b[1;33m:\u001b[0m\u001b[0mc\u001b[0m\u001b[1;33m]\u001b[0m\u001b[1;33m,\u001b[0m\u001b[1;34m''\u001b[0m\u001b[1;33m)\u001b[0m\u001b[1;33m\u001b[0m\u001b[1;33m\u001b[0m\u001b[0m\n\u001b[0;32m      7\u001b[0m \u001b[0ma\u001b[0m\u001b[1;33m\u001b[0m\u001b[1;33m\u001b[0m\u001b[0m\n",
      "\u001b[1;31mValueError\u001b[0m: substring not found"
     ]
    }
   ],
   "source": [
    "def solution(a, b):\n",
    "    if a == '':\n",
    "        return ''\n",
    "    elif b == []:\n",
    "        return a\n",
    "    for i in range(len(b)-1):\n",
    "        if b[i] in a:\n",
    "            a = a.split(b[i])\n",
    "            c = a[1].find('\\n')\n",
    "            a[1] = a[1].replace(a[1][:c],'')\n",
    "            count = 0\n",
    "            for j in a:\n",
    "                a[count] = j.strip()\n",
    "                count += 1\n",
    "            a[0] +='\\n'\n",
    "            a = \"\".join(a)\n",
    "    if b[-1] in a:\n",
    "        a = a.split(b[-1])\n",
    "        a[0] = a[0].strip()\n",
    "    return a[0]\n",
    "\n"
   ]
  },
  {
   "cell_type": "code",
   "execution_count": 39,
   "metadata": {},
   "outputs": [
    {
     "ename": "UnboundLocalError",
     "evalue": "local variable 'count' referenced before assignment",
     "output_type": "error",
     "traceback": [
      "\u001b[1;31m---------------------------------------------------------------------------\u001b[0m",
      "\u001b[1;31mUnboundLocalError\u001b[0m                         Traceback (most recent call last)",
      "\u001b[1;32m<ipython-input-39-912c535db310>\u001b[0m in \u001b[0;36m<module>\u001b[1;34m\u001b[0m\n\u001b[0;32m     29\u001b[0m \u001b[1;33m\u001b[0m\u001b[0m\n\u001b[0;32m     30\u001b[0m \u001b[1;33m\u001b[0m\u001b[0m\n\u001b[1;32m---> 31\u001b[1;33m \u001b[0msolution\u001b[0m\u001b[1;33m(\u001b[0m\u001b[1;34m\"\\n§\"\u001b[0m\u001b[1;33m,\u001b[0m \u001b[1;33m[\u001b[0m\u001b[1;34m\"#\"\u001b[0m\u001b[1;33m,\u001b[0m \u001b[1;34m\"§\"\u001b[0m\u001b[1;33m]\u001b[0m\u001b[1;33m)\u001b[0m\u001b[1;33m\u001b[0m\u001b[1;33m\u001b[0m\u001b[0m\n\u001b[0m",
      "\u001b[1;32m<ipython-input-39-912c535db310>\u001b[0m in \u001b[0;36msolution\u001b[1;34m(a, b)\u001b[0m\n\u001b[0;32m     18\u001b[0m             \u001b[0mcount\u001b[0m \u001b[1;33m=\u001b[0m \u001b[1;36m0\u001b[0m\u001b[1;33m\u001b[0m\u001b[1;33m\u001b[0m\u001b[0m\n\u001b[0;32m     19\u001b[0m         \u001b[1;32mfor\u001b[0m \u001b[0mj\u001b[0m \u001b[1;32min\u001b[0m \u001b[0ma\u001b[0m\u001b[1;33m:\u001b[0m\u001b[1;33m\u001b[0m\u001b[1;33m\u001b[0m\u001b[0m\n\u001b[1;32m---> 20\u001b[1;33m             \u001b[0ma\u001b[0m\u001b[1;33m[\u001b[0m\u001b[0mcount\u001b[0m\u001b[1;33m]\u001b[0m \u001b[1;33m=\u001b[0m \u001b[0mj\u001b[0m\u001b[1;33m.\u001b[0m\u001b[0mstrip\u001b[0m\u001b[1;33m(\u001b[0m\u001b[1;33m)\u001b[0m\u001b[1;33m\u001b[0m\u001b[1;33m\u001b[0m\u001b[0m\n\u001b[0m\u001b[0;32m     21\u001b[0m             \u001b[0mcount\u001b[0m \u001b[1;33m+=\u001b[0m \u001b[1;36m1\u001b[0m\u001b[1;33m\u001b[0m\u001b[1;33m\u001b[0m\u001b[0m\n\u001b[0;32m     22\u001b[0m         \u001b[0ma\u001b[0m\u001b[1;33m[\u001b[0m\u001b[1;36m0\u001b[0m\u001b[1;33m]\u001b[0m \u001b[1;33m+=\u001b[0m\u001b[1;34m'\\n'\u001b[0m\u001b[1;33m\u001b[0m\u001b[1;33m\u001b[0m\u001b[0m\n",
      "\u001b[1;31mUnboundLocalError\u001b[0m: local variable 'count' referenced before assignment"
     ]
    }
   ],
   "source": [
    "def solution(a, b):\n",
    "    if a==tuple:\n",
    "        a=list(a)\n",
    "        b=a[1]\n",
    "        a=a[0]\n",
    "    if a=='':\n",
    "        return ''\n",
    "    elif b==[]:\n",
    "        return a\n",
    "    for i in range(len(b)-1):\n",
    "        if b[i] in a:\n",
    "            a = a.split(b[i])\n",
    "            if '\\n' in a[1]:\n",
    "                c = a[1].index('\\n')\n",
    "                a[1] = a[1].replace(a[1][:c],'')\n",
    "            else:\n",
    "                break\n",
    "            count = 0\n",
    "        for j in a:\n",
    "            a[count] = j.strip()\n",
    "            count += 1\n",
    "        a[0] +='\\n'\n",
    "        a = \"\".join(a)\n",
    "    if b[-1] in a:\n",
    "        a = a.split(b[-1])\n",
    "    if type(a)!=tuple:\n",
    "        a[0] = a[0].strip()\n",
    "    return a[0]\n",
    "\n",
    "\n",
    "solution(\"\\n§\", [\"#\", \"§\"])"
   ]
  },
  {
   "cell_type": "code",
   "execution_count": 60,
   "metadata": {},
   "outputs": [
    {
     "name": "stdout",
     "output_type": "stream",
     "text": [
      "= cherries\n",
      "= pears avocados . lemons\n",
      "lemons apples pears pears cherries\n",
      "pears cherries apples cherries pears apples\n",
      "= cherries\n",
      "= pears avocados . lemons\n",
      "lemons apples pears pears cherries\n",
      "pears cherries apples cherries pears apples\n",
      "\n",
      "pears avocados . lemons\n",
      "lemons apples pears pears cherries\n",
      "pears cherries apples cherries pears apples\n",
      "\n",
      "pears avocados . lemons\n",
      "lemons apples pears pears cherries\n",
      "pears cherries apples cherries pears apples\n",
      "\n",
      "pears avocados . lemons\n",
      "lemons apples pears pears cherries\n",
      "pears cherries apples cherries pears apples\n",
      "\n",
      "pears avocados . lemons\n",
      "lemons apples pears pears cherries\n",
      "pears cherries apples cherries pears apples\n",
      "\n",
      "pears avocados . lemons\n",
      "lemons apples pears pears cherries\n",
      "pears cherries apples cherries pears apples\n",
      "\n",
      "pears avocados . lemons\n",
      "lemons apples pears pears cherries\n",
      "pears cherries apples cherries pears apples\n"
     ]
    },
    {
     "data": {
      "text/plain": [
       "'\\n'"
      ]
     },
     "execution_count": 60,
     "metadata": {},
     "output_type": "execute_result"
    }
   ],
   "source": [
    "def solution(a, b):\n",
    "    if a=='':\n",
    "        return ''\n",
    "    elif b==[]:\n",
    "        return a\n",
    "    for i in range(len(b)-1):\n",
    "        if b[i] in a:\n",
    "            a = a.split(b[i])\n",
    "            if '\\n' in a[1]:\n",
    "                c = a[1].index('\\n')\n",
    "                a[1] = a[1].replace(a[1][:c],'')\n",
    "            else:\n",
    "                break\n",
    "            count = 0\n",
    "            for j in a:\n",
    "                a[count] = j.strip()\n",
    "                count += 1\n",
    "            a[0] +='\\n'\n",
    "            a = \"\".join(a)\n",
    "        print(a)\n",
    "    if b[-1] in a:\n",
    "        a = a.split(b[-1])\n",
    "    if a[0]=='\\n':\n",
    "        return a[0]\n",
    "    else:\n",
    "        a[0] = a[0].strip()\n",
    "        return a[0]\n",
    "\n",
    "solution('= cherries\\n= pears avocados . lemons\\nlemons apples pears pears cherries\\npears cherries apples cherries pears apples', ['^', ',', '=', '-', '#', '@', '!', \"'\", '?'])"
   ]
  },
  {
   "cell_type": "code",
   "execution_count": 95,
   "metadata": {},
   "outputs": [
    {
     "name": "stdout",
     "output_type": "stream",
     "text": [
      "['apples, pears ', 'grapes', 'bananas ']\n"
     ]
    },
    {
     "data": {
      "text/plain": [
       "'apples, pears\\ngrapes\\nbananas'"
      ]
     },
     "execution_count": 95,
     "metadata": {},
     "output_type": "execute_result"
    }
   ],
   "source": [
    "def solution(string,markers):\n",
    "    a = string.split('\\n')\n",
    "    count = -1\n",
    "    for i in a:\n",
    "        count += 1\n",
    "        for j in markers:\n",
    "            if j in a[count]:\n",
    "                a[count] = a[count].replace(a[count][a[count].index(j):],'')\n",
    "    count=-1\n",
    "    print(a)\n",
    "    for k in a:\n",
    "        count += 1\n",
    "        if k!='\\n' and len(k)>=1:\n",
    "            a[count] = a[count].strip()\n",
    "    a='\\n'.join(a)\n",
    "    return a\n",
    "solution(\"apples, pears # and bananas\\ngrapes\\nbananas !apples\", [\"#\", \"!\"])\n",
    "            \n",
    "    "
   ]
  },
  {
   "cell_type": "code",
   "execution_count": 75,
   "metadata": {},
   "outputs": [
    {
     "data": {
      "text/plain": [
       "['apples, pears # and bananas', 'grapes', 'bananas !apples']"
      ]
     },
     "execution_count": 75,
     "metadata": {},
     "output_type": "execute_result"
    }
   ],
   "source": [
    "string=\"apples, pears # and bananas\\ngrapes\\nbananas !apples\"\n",
    "ans=[\"#\", \"!\"]\n",
    "a = string.split('\\n')\n",
    "a"
   ]
  },
  {
   "cell_type": "code",
   "execution_count": 94,
   "metadata": {},
   "outputs": [
    {
     "data": {
      "text/plain": [
       "'asdqwqwf  '"
      ]
     },
     "execution_count": 94,
     "metadata": {},
     "output_type": "execute_result"
    }
   ],
   "source": [
    "a='asdqwqwf  '\n",
    "a.strip()\n",
    "a"
   ]
  }
 ],
 "metadata": {
  "kernelspec": {
   "display_name": "Python 3",
   "language": "python",
   "name": "python3"
  },
  "language_info": {
   "codemirror_mode": {
    "name": "ipython",
    "version": 3
   },
   "file_extension": ".py",
   "mimetype": "text/x-python",
   "name": "python",
   "nbconvert_exporter": "python",
   "pygments_lexer": "ipython3",
   "version": "3.6.7"
  }
 },
 "nbformat": 4,
 "nbformat_minor": 2
}
